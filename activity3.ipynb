{
 "cells": [
  {
   "cell_type": "markdown",
   "id": "4bc1c5f5-556d-4ac1-9d45-9395010649cf",
   "metadata": {},
   "source": [
    "<h1>UK ROAD ACCIDENT DATA ANALYSIS</h1>\n",
    "<h2>INCLUSIVE YEAR 2019 - 2022</h2>"
   ]
  },
  {
   "cell_type": "markdown",
   "id": "1f98f1e5-2a03-4ded-b8dc-bac5ffc660e0",
   "metadata": {},
   "source": [
    "<h2>Analyts : Christian Genovana</h2>"
   ]
  },
  {
   "cell_type": "markdown",
   "id": "8ffd9c2d-9d40-497f-a87e-d6a1d578c878",
   "metadata": {},
   "source": [
    "<h1>DATA PREPARATION</h1>"
   ]
  },
  {
   "cell_type": "markdown",
   "id": "0d4b175d-1918-4f0e-b9f1-099518b07fe4",
   "metadata": {},
   "source": [
    "<p>Transfer Data set to folder</p>"
   ]
  },
  {
   "cell_type": "markdown",
   "id": "00ee223e-2d78-4568-938c-7b6b737f76b0",
   "metadata": {},
   "source": [
    "<h3>Importing Libraries</h3>"
   ]
  },
  {
   "cell_type": "code",
   "execution_count": 3,
   "id": "28662d1e-f7c6-496d-b377-8f770a645b1d",
   "metadata": {},
   "outputs": [],
   "source": [
    "import numpy as np\n",
    "import pandas as pd\n",
    "import matplotlib.pyplot as plt\n",
    "import seaborn as sns\n",
    "from scipy.stats import f_oneway"
   ]
  },
  {
   "cell_type": "markdown",
   "id": "0c509f9e-d577-4a53-af62-bb722da7689d",
   "metadata": {},
   "source": [
    "<h1>DATA FRAME</h1>"
   ]
  },
  {
   "cell_type": "code",
   "execution_count": 4,
   "id": "8ee2134c-d04b-4929-b347-04b4c2729c11",
   "metadata": {},
   "outputs": [],
   "source": [
    "accident = pd.read_csv('datasets\\\\accident_data.csv')"
   ]
  },
  {
   "cell_type": "code",
   "execution_count": 5,
   "id": "ef3d4fec-37e9-4699-ba80-bfdcc42150dc",
   "metadata": {},
   "outputs": [
    {
     "data": {
      "text/html": [
       "<div>\n",
       "<style scoped>\n",
       "    .dataframe tbody tr th:only-of-type {\n",
       "        vertical-align: middle;\n",
       "    }\n",
       "\n",
       "    .dataframe tbody tr th {\n",
       "        vertical-align: top;\n",
       "    }\n",
       "\n",
       "    .dataframe thead th {\n",
       "        text-align: right;\n",
       "    }\n",
       "</style>\n",
       "<table border=\"1\" class=\"dataframe\">\n",
       "  <thead>\n",
       "    <tr style=\"text-align: right;\">\n",
       "      <th></th>\n",
       "      <th>Index</th>\n",
       "      <th>Accident_Severity</th>\n",
       "      <th>Accident Date</th>\n",
       "      <th>Latitude</th>\n",
       "      <th>Light_Conditions</th>\n",
       "      <th>District Area</th>\n",
       "      <th>Longitude</th>\n",
       "      <th>Number_of_Casualties</th>\n",
       "      <th>Number_of_Vehicles</th>\n",
       "      <th>Road_Surface_Conditions</th>\n",
       "      <th>Road_Type</th>\n",
       "      <th>Urban_or_Rural_Area</th>\n",
       "      <th>Weather_Conditions</th>\n",
       "      <th>Vehicle_Type</th>\n",
       "    </tr>\n",
       "  </thead>\n",
       "  <tbody>\n",
       "    <tr>\n",
       "      <th>0</th>\n",
       "      <td>200701BS64157</td>\n",
       "      <td>Serious</td>\n",
       "      <td>5/6/2019</td>\n",
       "      <td>51.506187</td>\n",
       "      <td>Darkness - lights lit</td>\n",
       "      <td>Kensington and Chelsea</td>\n",
       "      <td>-0.209082</td>\n",
       "      <td>1</td>\n",
       "      <td>2</td>\n",
       "      <td>Dry</td>\n",
       "      <td>Single carriageway</td>\n",
       "      <td>Urban</td>\n",
       "      <td>Fine no high winds</td>\n",
       "      <td>Car</td>\n",
       "    </tr>\n",
       "    <tr>\n",
       "      <th>1</th>\n",
       "      <td>200701BS65737</td>\n",
       "      <td>Serious</td>\n",
       "      <td>2/7/2019</td>\n",
       "      <td>51.495029</td>\n",
       "      <td>Daylight</td>\n",
       "      <td>Kensington and Chelsea</td>\n",
       "      <td>-0.173647</td>\n",
       "      <td>1</td>\n",
       "      <td>2</td>\n",
       "      <td>Wet or damp</td>\n",
       "      <td>Single carriageway</td>\n",
       "      <td>Urban</td>\n",
       "      <td>Raining no high winds</td>\n",
       "      <td>Car</td>\n",
       "    </tr>\n",
       "    <tr>\n",
       "      <th>2</th>\n",
       "      <td>200701BS66127</td>\n",
       "      <td>Serious</td>\n",
       "      <td>26-08-2019</td>\n",
       "      <td>51.517715</td>\n",
       "      <td>Darkness - lighting unknown</td>\n",
       "      <td>Kensington and Chelsea</td>\n",
       "      <td>-0.210215</td>\n",
       "      <td>1</td>\n",
       "      <td>3</td>\n",
       "      <td>Dry</td>\n",
       "      <td>NaN</td>\n",
       "      <td>Urban</td>\n",
       "      <td>NaN</td>\n",
       "      <td>Taxi/Private hire car</td>\n",
       "    </tr>\n",
       "    <tr>\n",
       "      <th>3</th>\n",
       "      <td>200701BS66128</td>\n",
       "      <td>Serious</td>\n",
       "      <td>16-08-2019</td>\n",
       "      <td>51.495478</td>\n",
       "      <td>Daylight</td>\n",
       "      <td>Kensington and Chelsea</td>\n",
       "      <td>-0.202731</td>\n",
       "      <td>1</td>\n",
       "      <td>4</td>\n",
       "      <td>Dry</td>\n",
       "      <td>Single carriageway</td>\n",
       "      <td>Urban</td>\n",
       "      <td>Fine no high winds</td>\n",
       "      <td>Bus or coach (17 or more pass seats)</td>\n",
       "    </tr>\n",
       "    <tr>\n",
       "      <th>4</th>\n",
       "      <td>200701BS66837</td>\n",
       "      <td>Slight</td>\n",
       "      <td>3/9/2019</td>\n",
       "      <td>51.488576</td>\n",
       "      <td>Darkness - lights lit</td>\n",
       "      <td>Kensington and Chelsea</td>\n",
       "      <td>-0.192487</td>\n",
       "      <td>1</td>\n",
       "      <td>2</td>\n",
       "      <td>Dry</td>\n",
       "      <td>NaN</td>\n",
       "      <td>Urban</td>\n",
       "      <td>NaN</td>\n",
       "      <td>Other vehicle</td>\n",
       "    </tr>\n",
       "    <tr>\n",
       "      <th>...</th>\n",
       "      <td>...</td>\n",
       "      <td>...</td>\n",
       "      <td>...</td>\n",
       "      <td>...</td>\n",
       "      <td>...</td>\n",
       "      <td>...</td>\n",
       "      <td>...</td>\n",
       "      <td>...</td>\n",
       "      <td>...</td>\n",
       "      <td>...</td>\n",
       "      <td>...</td>\n",
       "      <td>...</td>\n",
       "      <td>...</td>\n",
       "      <td>...</td>\n",
       "    </tr>\n",
       "    <tr>\n",
       "      <th>660674</th>\n",
       "      <td>201091NM01760</td>\n",
       "      <td>Slight</td>\n",
       "      <td>18-02-2022</td>\n",
       "      <td>57.374005</td>\n",
       "      <td>Daylight</td>\n",
       "      <td>Highland</td>\n",
       "      <td>-3.467828</td>\n",
       "      <td>2</td>\n",
       "      <td>1</td>\n",
       "      <td>Dry</td>\n",
       "      <td>Single carriageway</td>\n",
       "      <td>Rural</td>\n",
       "      <td>Fine no high winds</td>\n",
       "      <td>Car</td>\n",
       "    </tr>\n",
       "    <tr>\n",
       "      <th>660675</th>\n",
       "      <td>201091NM01881</td>\n",
       "      <td>Slight</td>\n",
       "      <td>21-02-2022</td>\n",
       "      <td>57.232273</td>\n",
       "      <td>Darkness - no lighting</td>\n",
       "      <td>Highland</td>\n",
       "      <td>-3.809281</td>\n",
       "      <td>1</td>\n",
       "      <td>1</td>\n",
       "      <td>Frost or ice</td>\n",
       "      <td>Single carriageway</td>\n",
       "      <td>Rural</td>\n",
       "      <td>Fine no high winds</td>\n",
       "      <td>Car</td>\n",
       "    </tr>\n",
       "    <tr>\n",
       "      <th>660676</th>\n",
       "      <td>201091NM01935</td>\n",
       "      <td>Slight</td>\n",
       "      <td>23-02-2022</td>\n",
       "      <td>57.585044</td>\n",
       "      <td>Daylight</td>\n",
       "      <td>Highland</td>\n",
       "      <td>-3.862727</td>\n",
       "      <td>1</td>\n",
       "      <td>3</td>\n",
       "      <td>Frost or ice</td>\n",
       "      <td>Single carriageway</td>\n",
       "      <td>Rural</td>\n",
       "      <td>Fine no high winds</td>\n",
       "      <td>Car</td>\n",
       "    </tr>\n",
       "    <tr>\n",
       "      <th>660677</th>\n",
       "      <td>201091NM01964</td>\n",
       "      <td>Serious</td>\n",
       "      <td>23-02-2022</td>\n",
       "      <td>57.214898</td>\n",
       "      <td>Darkness - no lighting</td>\n",
       "      <td>Highland</td>\n",
       "      <td>-3.823997</td>\n",
       "      <td>1</td>\n",
       "      <td>2</td>\n",
       "      <td>Wet or damp</td>\n",
       "      <td>Single carriageway</td>\n",
       "      <td>Rural</td>\n",
       "      <td>Fine no high winds</td>\n",
       "      <td>Motorcycle over 500cc</td>\n",
       "    </tr>\n",
       "    <tr>\n",
       "      <th>660678</th>\n",
       "      <td>201091NM02142</td>\n",
       "      <td>Serious</td>\n",
       "      <td>28-02-2022</td>\n",
       "      <td>57.575210</td>\n",
       "      <td>Daylight</td>\n",
       "      <td>Highland</td>\n",
       "      <td>-3.895673</td>\n",
       "      <td>1</td>\n",
       "      <td>1</td>\n",
       "      <td>Wet or damp</td>\n",
       "      <td>Dual carriageway</td>\n",
       "      <td>Rural</td>\n",
       "      <td>Snowing no high winds</td>\n",
       "      <td>Car</td>\n",
       "    </tr>\n",
       "  </tbody>\n",
       "</table>\n",
       "<p>660679 rows × 14 columns</p>\n",
       "</div>"
      ],
      "text/plain": [
       "                Index Accident_Severity Accident Date   Latitude  \\\n",
       "0       200701BS64157           Serious      5/6/2019  51.506187   \n",
       "1       200701BS65737           Serious      2/7/2019  51.495029   \n",
       "2       200701BS66127           Serious    26-08-2019  51.517715   \n",
       "3       200701BS66128           Serious    16-08-2019  51.495478   \n",
       "4       200701BS66837            Slight      3/9/2019  51.488576   \n",
       "...               ...               ...           ...        ...   \n",
       "660674  201091NM01760            Slight    18-02-2022  57.374005   \n",
       "660675  201091NM01881            Slight    21-02-2022  57.232273   \n",
       "660676  201091NM01935            Slight    23-02-2022  57.585044   \n",
       "660677  201091NM01964           Serious    23-02-2022  57.214898   \n",
       "660678  201091NM02142           Serious    28-02-2022  57.575210   \n",
       "\n",
       "                   Light_Conditions           District Area  Longitude  \\\n",
       "0             Darkness - lights lit  Kensington and Chelsea  -0.209082   \n",
       "1                          Daylight  Kensington and Chelsea  -0.173647   \n",
       "2       Darkness - lighting unknown  Kensington and Chelsea  -0.210215   \n",
       "3                          Daylight  Kensington and Chelsea  -0.202731   \n",
       "4             Darkness - lights lit  Kensington and Chelsea  -0.192487   \n",
       "...                             ...                     ...        ...   \n",
       "660674                     Daylight                Highland  -3.467828   \n",
       "660675       Darkness - no lighting                Highland  -3.809281   \n",
       "660676                     Daylight                Highland  -3.862727   \n",
       "660677       Darkness - no lighting                Highland  -3.823997   \n",
       "660678                     Daylight                Highland  -3.895673   \n",
       "\n",
       "        Number_of_Casualties  Number_of_Vehicles Road_Surface_Conditions  \\\n",
       "0                          1                   2                     Dry   \n",
       "1                          1                   2             Wet or damp   \n",
       "2                          1                   3                     Dry   \n",
       "3                          1                   4                     Dry   \n",
       "4                          1                   2                     Dry   \n",
       "...                      ...                 ...                     ...   \n",
       "660674                     2                   1                     Dry   \n",
       "660675                     1                   1            Frost or ice   \n",
       "660676                     1                   3            Frost or ice   \n",
       "660677                     1                   2             Wet or damp   \n",
       "660678                     1                   1             Wet or damp   \n",
       "\n",
       "                 Road_Type Urban_or_Rural_Area     Weather_Conditions  \\\n",
       "0       Single carriageway               Urban     Fine no high winds   \n",
       "1       Single carriageway               Urban  Raining no high winds   \n",
       "2                      NaN               Urban                    NaN   \n",
       "3       Single carriageway               Urban     Fine no high winds   \n",
       "4                      NaN               Urban                    NaN   \n",
       "...                    ...                 ...                    ...   \n",
       "660674  Single carriageway               Rural     Fine no high winds   \n",
       "660675  Single carriageway               Rural     Fine no high winds   \n",
       "660676  Single carriageway               Rural     Fine no high winds   \n",
       "660677  Single carriageway               Rural     Fine no high winds   \n",
       "660678    Dual carriageway               Rural  Snowing no high winds   \n",
       "\n",
       "                                Vehicle_Type  \n",
       "0                                        Car  \n",
       "1                                        Car  \n",
       "2                      Taxi/Private hire car  \n",
       "3       Bus or coach (17 or more pass seats)  \n",
       "4                              Other vehicle  \n",
       "...                                      ...  \n",
       "660674                                   Car  \n",
       "660675                                   Car  \n",
       "660676                                   Car  \n",
       "660677                 Motorcycle over 500cc  \n",
       "660678                                   Car  \n",
       "\n",
       "[660679 rows x 14 columns]"
      ]
     },
     "execution_count": 5,
     "metadata": {},
     "output_type": "execute_result"
    }
   ],
   "source": [
    "accident"
   ]
  },
  {
   "cell_type": "code",
   "execution_count": 6,
   "id": "0252d8ed-a4c7-45c3-b4fa-11c8c8d1e184",
   "metadata": {},
   "outputs": [
    {
     "name": "stdout",
     "output_type": "stream",
     "text": [
      "<class 'pandas.core.frame.DataFrame'>\n",
      "RangeIndex: 660679 entries, 0 to 660678\n",
      "Data columns (total 14 columns):\n",
      " #   Column                   Non-Null Count   Dtype  \n",
      "---  ------                   --------------   -----  \n",
      " 0   Index                    660679 non-null  object \n",
      " 1   Accident_Severity        660679 non-null  object \n",
      " 2   Accident Date            660679 non-null  object \n",
      " 3   Latitude                 660654 non-null  float64\n",
      " 4   Light_Conditions         660679 non-null  object \n",
      " 5   District Area            660679 non-null  object \n",
      " 6   Longitude                660653 non-null  float64\n",
      " 7   Number_of_Casualties     660679 non-null  int64  \n",
      " 8   Number_of_Vehicles       660679 non-null  int64  \n",
      " 9   Road_Surface_Conditions  659953 non-null  object \n",
      " 10  Road_Type                656159 non-null  object \n",
      " 11  Urban_or_Rural_Area      660664 non-null  object \n",
      " 12  Weather_Conditions       646551 non-null  object \n",
      " 13  Vehicle_Type             660679 non-null  object \n",
      "dtypes: float64(2), int64(2), object(10)\n",
      "memory usage: 70.6+ MB\n"
     ]
    }
   ],
   "source": [
    "accident.info()"
   ]
  },
  {
   "cell_type": "code",
   "execution_count": 7,
   "id": "4014452c-d619-4958-ae39-fa46d17fbff5",
   "metadata": {
    "scrolled": true
   },
   "outputs": [
    {
     "data": {
      "text/plain": [
       "Index                          0\n",
       "Accident_Severity              0\n",
       "Accident Date                  0\n",
       "Latitude                      25\n",
       "Light_Conditions               0\n",
       "District Area                  0\n",
       "Longitude                     26\n",
       "Number_of_Casualties           0\n",
       "Number_of_Vehicles             0\n",
       "Road_Surface_Conditions      726\n",
       "Road_Type                   4520\n",
       "Urban_or_Rural_Area           15\n",
       "Weather_Conditions         14128\n",
       "Vehicle_Type                   0\n",
       "dtype: int64"
      ]
     },
     "execution_count": 7,
     "metadata": {},
     "output_type": "execute_result"
    }
   ],
   "source": [
    "accident.isnull().sum()"
   ]
  },
  {
   "cell_type": "code",
   "execution_count": 8,
   "id": "87538a1b-d69b-419a-b114-c40cc5813d25",
   "metadata": {},
   "outputs": [],
   "source": [
    "accident['Latitude'] = accident['Latitude'].fillna(accident['Latitude'].mean())\n",
    "accident['Longitude'] = accident['Longitude'].fillna(accident['Longitude'].mean())\n",
    "accident['Road_Surface_Conditions'] = accident['Road_Surface_Conditions'].fillna('unknown road condition')\n",
    "accident['Road_Type'] = accident['Road_Type'].fillna('unaccounted')\n",
    "accident['Weather_Conditions'] = accident['Weather_Conditions'].fillna('unaccounted')\n",
    "accident['Urban_or_Rural_Area'] = accident['Urban_or_Rural_Area'].fillna(accident['Urban_or_Rural_Area'].mode()[0])"
   ]
  },
  {
   "cell_type": "code",
   "execution_count": 9,
   "id": "3d44c9d2-8fb2-4bde-b982-2d82d37ba473",
   "metadata": {},
   "outputs": [
    {
     "data": {
      "text/plain": [
       "Index                      0\n",
       "Accident_Severity          0\n",
       "Accident Date              0\n",
       "Latitude                   0\n",
       "Light_Conditions           0\n",
       "District Area              0\n",
       "Longitude                  0\n",
       "Number_of_Casualties       0\n",
       "Number_of_Vehicles         0\n",
       "Road_Surface_Conditions    0\n",
       "Road_Type                  0\n",
       "Urban_or_Rural_Area        0\n",
       "Weather_Conditions         0\n",
       "Vehicle_Type               0\n",
       "dtype: int64"
      ]
     },
     "execution_count": 9,
     "metadata": {},
     "output_type": "execute_result"
    }
   ],
   "source": [
    "accident.isnull().sum()"
   ]
  },
  {
   "cell_type": "code",
   "execution_count": 10,
   "id": "34264e16-4017-490b-9ac3-9584cb00fb12",
   "metadata": {},
   "outputs": [
    {
     "data": {
      "text/plain": [
       "Index                       object\n",
       "Accident_Severity           object\n",
       "Accident Date               object\n",
       "Latitude                   float64\n",
       "Light_Conditions            object\n",
       "District Area               object\n",
       "Longitude                  float64\n",
       "Number_of_Casualties         int64\n",
       "Number_of_Vehicles           int64\n",
       "Road_Surface_Conditions     object\n",
       "Road_Type                   object\n",
       "Urban_or_Rural_Area         object\n",
       "Weather_Conditions          object\n",
       "Vehicle_Type                object\n",
       "dtype: object"
      ]
     },
     "execution_count": 10,
     "metadata": {},
     "output_type": "execute_result"
    }
   ],
   "source": [
    "accident.dtypes"
   ]
  },
  {
   "cell_type": "markdown",
   "id": "78e8ad6d-1532-4b89-9669-6a4e3a36ddb6",
   "metadata": {},
   "source": [
    "<h1>Converting accident date to actual date types</h1>"
   ]
  },
  {
   "cell_type": "code",
   "execution_count": 11,
   "id": "499bce74-4d7f-48dc-bc0b-067a83c7b2f7",
   "metadata": {},
   "outputs": [
    {
     "data": {
      "text/plain": [
       "0           5/6/2019\n",
       "1           2/7/2019\n",
       "2         26-08-2019\n",
       "3         16-08-2019\n",
       "4           3/9/2019\n",
       "             ...    \n",
       "660674    18-02-2022\n",
       "660675    21-02-2022\n",
       "660676    23-02-2022\n",
       "660677    23-02-2022\n",
       "660678    28-02-2022\n",
       "Name: Accident Date, Length: 660679, dtype: object"
      ]
     },
     "execution_count": 11,
     "metadata": {},
     "output_type": "execute_result"
    }
   ],
   "source": [
    "accident['Accident Date']"
   ]
  },
  {
   "cell_type": "code",
   "execution_count": 12,
   "id": "de219dba-8d9e-4475-bdc6-0ea300279e1c",
   "metadata": {},
   "outputs": [],
   "source": [
    "accident['Accident Date'] = accident['Accident Date'].astype('str')\n",
    "accident.dtypes\n",
    "#remove spaces\n",
    "accident['Accident Date'] = accident['Accident Date'].str.strip()\n",
    "#replace / with -\n",
    "accident['Accident Date'] = accident['Accident Date'].str.replace('/','-')\n"
   ]
  },
  {
   "cell_type": "code",
   "execution_count": 13,
   "id": "b313e5f7-e50d-49a2-a8c6-ad1d94e5c913",
   "metadata": {},
   "outputs": [],
   "source": [
    "accident['Accident Date'] = pd.to_datetime(accident['Accident Date'], dayfirst = True, errors = 'coerce')"
   ]
  },
  {
   "cell_type": "code",
   "execution_count": 14,
   "id": "c2621a83-9151-4a4a-b8e0-02118bea3b65",
   "metadata": {},
   "outputs": [
    {
     "data": {
      "text/plain": [
       "Index                              object\n",
       "Accident_Severity                  object\n",
       "Accident Date              datetime64[ns]\n",
       "Latitude                          float64\n",
       "Light_Conditions                   object\n",
       "District Area                      object\n",
       "Longitude                         float64\n",
       "Number_of_Casualties                int64\n",
       "Number_of_Vehicles                  int64\n",
       "Road_Surface_Conditions            object\n",
       "Road_Type                          object\n",
       "Urban_or_Rural_Area                object\n",
       "Weather_Conditions                 object\n",
       "Vehicle_Type                       object\n",
       "dtype: object"
      ]
     },
     "execution_count": 14,
     "metadata": {},
     "output_type": "execute_result"
    }
   ],
   "source": [
    "accident.dtypes"
   ]
  },
  {
   "cell_type": "code",
   "execution_count": 15,
   "id": "36b74463-3c12-450b-829a-ec01ef3aace9",
   "metadata": {},
   "outputs": [
    {
     "data": {
      "text/plain": [
       "Index                      0\n",
       "Accident_Severity          0\n",
       "Accident Date              0\n",
       "Latitude                   0\n",
       "Light_Conditions           0\n",
       "District Area              0\n",
       "Longitude                  0\n",
       "Number_of_Casualties       0\n",
       "Number_of_Vehicles         0\n",
       "Road_Surface_Conditions    0\n",
       "Road_Type                  0\n",
       "Urban_or_Rural_Area        0\n",
       "Weather_Conditions         0\n",
       "Vehicle_Type               0\n",
       "dtype: int64"
      ]
     },
     "execution_count": 15,
     "metadata": {},
     "output_type": "execute_result"
    }
   ],
   "source": [
    "accident.isnull().sum()"
   ]
  },
  {
   "cell_type": "markdown",
   "id": "912c6908-552e-4d2c-94ef-239310e8e733",
   "metadata": {},
   "source": [
    "<h2>Changing to category</h2>"
   ]
  },
  {
   "cell_type": "code",
   "execution_count": 16,
   "id": "b4177148-e869-4443-a633-a221da299b1e",
   "metadata": {},
   "outputs": [],
   "source": [
    "accident['Accident_Severity']=accident['Accident_Severity'].astype('category')"
   ]
  },
  {
   "cell_type": "code",
   "execution_count": 17,
   "id": "885013a3-d596-476e-8678-e36660d39317",
   "metadata": {},
   "outputs": [],
   "source": [
    "accident['Light_Conditions']=accident['Light_Conditions'].astype('category')"
   ]
  },
  {
   "cell_type": "code",
   "execution_count": 18,
   "id": "69bb2cb6-ee98-4f16-81f4-98865be04693",
   "metadata": {},
   "outputs": [],
   "source": [
    "accident['District Area']=accident['District Area'].astype('category')"
   ]
  },
  {
   "cell_type": "code",
   "execution_count": 19,
   "id": "c98e541e-fb4d-4f66-b1fd-40b4ee2bfd9a",
   "metadata": {},
   "outputs": [],
   "source": [
    "accident['Number_of_Casualties']=accident['Number_of_Casualties'].astype('category')"
   ]
  },
  {
   "cell_type": "code",
   "execution_count": 20,
   "id": "23a86910-aea2-49b3-b68b-945bb186338b",
   "metadata": {},
   "outputs": [],
   "source": [
    "accident['Number_of_Vehicles']=accident['Number_of_Vehicles'].astype('category')"
   ]
  },
  {
   "cell_type": "code",
   "execution_count": 21,
   "id": "a4bf5890-ceec-4d73-a228-aef4d3ba9fe5",
   "metadata": {},
   "outputs": [],
   "source": [
    "accident['Road_Surface_Conditions']=accident['Road_Surface_Conditions'].astype('category')"
   ]
  },
  {
   "cell_type": "code",
   "execution_count": 22,
   "id": "7f4dcdbd-9f47-47a8-9741-3032cba28cd7",
   "metadata": {},
   "outputs": [],
   "source": [
    "accident['Road_Type']=accident['Road_Type'].astype('category')"
   ]
  },
  {
   "cell_type": "code",
   "execution_count": 23,
   "id": "e57477d6-b9e0-4bb7-9838-f01114788c80",
   "metadata": {},
   "outputs": [],
   "source": [
    "accident['Urban_or_Rural_Area']=accident['Urban_or_Rural_Area'].astype('category')"
   ]
  },
  {
   "cell_type": "code",
   "execution_count": 24,
   "id": "e36c8c92-ae2f-4a51-9b73-550c9c639cd1",
   "metadata": {},
   "outputs": [],
   "source": [
    "accident['Weather_Conditions']=accident['Weather_Conditions'].astype('category')"
   ]
  },
  {
   "cell_type": "code",
   "execution_count": 25,
   "id": "b0565a2b-6d6d-4690-a5ff-63e13af2448d",
   "metadata": {},
   "outputs": [],
   "source": [
    "accident['Vehicle_Type']=accident['Vehicle_Type'].astype('category')"
   ]
  },
  {
   "cell_type": "code",
   "execution_count": 26,
   "id": "d62234c5-f0c4-4fae-a8d4-dcaad5df6af9",
   "metadata": {},
   "outputs": [],
   "source": [
    "accident['Latitude']=accident['Latitude'].astype('category')"
   ]
  },
  {
   "cell_type": "code",
   "execution_count": 27,
   "id": "d446a771-6610-44c4-88e4-980d3348ce23",
   "metadata": {},
   "outputs": [],
   "source": [
    "accident['Longitude']=accident['Longitude'].astype('category')"
   ]
  },
  {
   "cell_type": "code",
   "execution_count": 28,
   "id": "683c6327-2986-41b2-b8d2-b86c2bce6dc6",
   "metadata": {},
   "outputs": [
    {
     "data": {
      "text/plain": [
       "Index                              object\n",
       "Accident_Severity                category\n",
       "Accident Date              datetime64[ns]\n",
       "Latitude                         category\n",
       "Light_Conditions                 category\n",
       "District Area                    category\n",
       "Longitude                        category\n",
       "Number_of_Casualties             category\n",
       "Number_of_Vehicles               category\n",
       "Road_Surface_Conditions          category\n",
       "Road_Type                        category\n",
       "Urban_or_Rural_Area              category\n",
       "Weather_Conditions               category\n",
       "Vehicle_Type                     category\n",
       "dtype: object"
      ]
     },
     "execution_count": 28,
     "metadata": {},
     "output_type": "execute_result"
    }
   ],
   "source": [
    "accident.dtypes"
   ]
  },
  {
   "cell_type": "code",
   "execution_count": 29,
   "id": "a6215f92-e1cb-49f4-9f3c-8ed2a19129b4",
   "metadata": {},
   "outputs": [
    {
     "data": {
      "text/html": [
       "<div>\n",
       "<style scoped>\n",
       "    .dataframe tbody tr th:only-of-type {\n",
       "        vertical-align: middle;\n",
       "    }\n",
       "\n",
       "    .dataframe tbody tr th {\n",
       "        vertical-align: top;\n",
       "    }\n",
       "\n",
       "    .dataframe thead th {\n",
       "        text-align: right;\n",
       "    }\n",
       "</style>\n",
       "<table border=\"1\" class=\"dataframe\">\n",
       "  <thead>\n",
       "    <tr style=\"text-align: right;\">\n",
       "      <th></th>\n",
       "      <th>Index</th>\n",
       "      <th>Accident_Severity</th>\n",
       "      <th>Accident Date</th>\n",
       "      <th>Latitude</th>\n",
       "      <th>Light_Conditions</th>\n",
       "      <th>District Area</th>\n",
       "      <th>Longitude</th>\n",
       "      <th>Number_of_Casualties</th>\n",
       "      <th>Number_of_Vehicles</th>\n",
       "      <th>Road_Surface_Conditions</th>\n",
       "      <th>Road_Type</th>\n",
       "      <th>Urban_or_Rural_Area</th>\n",
       "      <th>Weather_Conditions</th>\n",
       "      <th>Vehicle_Type</th>\n",
       "    </tr>\n",
       "  </thead>\n",
       "  <tbody>\n",
       "    <tr>\n",
       "      <th>0</th>\n",
       "      <td>200701BS64157</td>\n",
       "      <td>Serious</td>\n",
       "      <td>2019-06-05</td>\n",
       "      <td>51.506187</td>\n",
       "      <td>Darkness - lights lit</td>\n",
       "      <td>Kensington and Chelsea</td>\n",
       "      <td>-0.209082</td>\n",
       "      <td>1</td>\n",
       "      <td>2</td>\n",
       "      <td>Dry</td>\n",
       "      <td>Single carriageway</td>\n",
       "      <td>Urban</td>\n",
       "      <td>Fine no high winds</td>\n",
       "      <td>Car</td>\n",
       "    </tr>\n",
       "    <tr>\n",
       "      <th>1</th>\n",
       "      <td>200701BS65737</td>\n",
       "      <td>Serious</td>\n",
       "      <td>2019-07-02</td>\n",
       "      <td>51.495029</td>\n",
       "      <td>Daylight</td>\n",
       "      <td>Kensington and Chelsea</td>\n",
       "      <td>-0.173647</td>\n",
       "      <td>1</td>\n",
       "      <td>2</td>\n",
       "      <td>Wet or damp</td>\n",
       "      <td>Single carriageway</td>\n",
       "      <td>Urban</td>\n",
       "      <td>Raining no high winds</td>\n",
       "      <td>Car</td>\n",
       "    </tr>\n",
       "    <tr>\n",
       "      <th>2</th>\n",
       "      <td>200701BS66127</td>\n",
       "      <td>Serious</td>\n",
       "      <td>2019-08-26</td>\n",
       "      <td>51.517715</td>\n",
       "      <td>Darkness - lighting unknown</td>\n",
       "      <td>Kensington and Chelsea</td>\n",
       "      <td>-0.210215</td>\n",
       "      <td>1</td>\n",
       "      <td>3</td>\n",
       "      <td>Dry</td>\n",
       "      <td>unaccounted</td>\n",
       "      <td>Urban</td>\n",
       "      <td>unaccounted</td>\n",
       "      <td>Taxi/Private hire car</td>\n",
       "    </tr>\n",
       "    <tr>\n",
       "      <th>3</th>\n",
       "      <td>200701BS66128</td>\n",
       "      <td>Serious</td>\n",
       "      <td>2019-08-16</td>\n",
       "      <td>51.495478</td>\n",
       "      <td>Daylight</td>\n",
       "      <td>Kensington and Chelsea</td>\n",
       "      <td>-0.202731</td>\n",
       "      <td>1</td>\n",
       "      <td>4</td>\n",
       "      <td>Dry</td>\n",
       "      <td>Single carriageway</td>\n",
       "      <td>Urban</td>\n",
       "      <td>Fine no high winds</td>\n",
       "      <td>Bus or coach (17 or more pass seats)</td>\n",
       "    </tr>\n",
       "    <tr>\n",
       "      <th>4</th>\n",
       "      <td>200701BS66837</td>\n",
       "      <td>Slight</td>\n",
       "      <td>2019-09-03</td>\n",
       "      <td>51.488576</td>\n",
       "      <td>Darkness - lights lit</td>\n",
       "      <td>Kensington and Chelsea</td>\n",
       "      <td>-0.192487</td>\n",
       "      <td>1</td>\n",
       "      <td>2</td>\n",
       "      <td>Dry</td>\n",
       "      <td>unaccounted</td>\n",
       "      <td>Urban</td>\n",
       "      <td>unaccounted</td>\n",
       "      <td>Other vehicle</td>\n",
       "    </tr>\n",
       "    <tr>\n",
       "      <th>...</th>\n",
       "      <td>...</td>\n",
       "      <td>...</td>\n",
       "      <td>...</td>\n",
       "      <td>...</td>\n",
       "      <td>...</td>\n",
       "      <td>...</td>\n",
       "      <td>...</td>\n",
       "      <td>...</td>\n",
       "      <td>...</td>\n",
       "      <td>...</td>\n",
       "      <td>...</td>\n",
       "      <td>...</td>\n",
       "      <td>...</td>\n",
       "      <td>...</td>\n",
       "    </tr>\n",
       "    <tr>\n",
       "      <th>660674</th>\n",
       "      <td>201091NM01760</td>\n",
       "      <td>Slight</td>\n",
       "      <td>2022-02-18</td>\n",
       "      <td>57.374005</td>\n",
       "      <td>Daylight</td>\n",
       "      <td>Highland</td>\n",
       "      <td>-3.467828</td>\n",
       "      <td>2</td>\n",
       "      <td>1</td>\n",
       "      <td>Dry</td>\n",
       "      <td>Single carriageway</td>\n",
       "      <td>Rural</td>\n",
       "      <td>Fine no high winds</td>\n",
       "      <td>Car</td>\n",
       "    </tr>\n",
       "    <tr>\n",
       "      <th>660675</th>\n",
       "      <td>201091NM01881</td>\n",
       "      <td>Slight</td>\n",
       "      <td>2022-02-21</td>\n",
       "      <td>57.232273</td>\n",
       "      <td>Darkness - no lighting</td>\n",
       "      <td>Highland</td>\n",
       "      <td>-3.809281</td>\n",
       "      <td>1</td>\n",
       "      <td>1</td>\n",
       "      <td>Frost or ice</td>\n",
       "      <td>Single carriageway</td>\n",
       "      <td>Rural</td>\n",
       "      <td>Fine no high winds</td>\n",
       "      <td>Car</td>\n",
       "    </tr>\n",
       "    <tr>\n",
       "      <th>660676</th>\n",
       "      <td>201091NM01935</td>\n",
       "      <td>Slight</td>\n",
       "      <td>2022-02-23</td>\n",
       "      <td>57.585044</td>\n",
       "      <td>Daylight</td>\n",
       "      <td>Highland</td>\n",
       "      <td>-3.862727</td>\n",
       "      <td>1</td>\n",
       "      <td>3</td>\n",
       "      <td>Frost or ice</td>\n",
       "      <td>Single carriageway</td>\n",
       "      <td>Rural</td>\n",
       "      <td>Fine no high winds</td>\n",
       "      <td>Car</td>\n",
       "    </tr>\n",
       "    <tr>\n",
       "      <th>660677</th>\n",
       "      <td>201091NM01964</td>\n",
       "      <td>Serious</td>\n",
       "      <td>2022-02-23</td>\n",
       "      <td>57.214898</td>\n",
       "      <td>Darkness - no lighting</td>\n",
       "      <td>Highland</td>\n",
       "      <td>-3.823997</td>\n",
       "      <td>1</td>\n",
       "      <td>2</td>\n",
       "      <td>Wet or damp</td>\n",
       "      <td>Single carriageway</td>\n",
       "      <td>Rural</td>\n",
       "      <td>Fine no high winds</td>\n",
       "      <td>Motorcycle over 500cc</td>\n",
       "    </tr>\n",
       "    <tr>\n",
       "      <th>660678</th>\n",
       "      <td>201091NM02142</td>\n",
       "      <td>Serious</td>\n",
       "      <td>2022-02-28</td>\n",
       "      <td>57.575210</td>\n",
       "      <td>Daylight</td>\n",
       "      <td>Highland</td>\n",
       "      <td>-3.895673</td>\n",
       "      <td>1</td>\n",
       "      <td>1</td>\n",
       "      <td>Wet or damp</td>\n",
       "      <td>Dual carriageway</td>\n",
       "      <td>Rural</td>\n",
       "      <td>Snowing no high winds</td>\n",
       "      <td>Car</td>\n",
       "    </tr>\n",
       "  </tbody>\n",
       "</table>\n",
       "<p>660679 rows × 14 columns</p>\n",
       "</div>"
      ],
      "text/plain": [
       "                Index Accident_Severity Accident Date   Latitude  \\\n",
       "0       200701BS64157           Serious    2019-06-05  51.506187   \n",
       "1       200701BS65737           Serious    2019-07-02  51.495029   \n",
       "2       200701BS66127           Serious    2019-08-26  51.517715   \n",
       "3       200701BS66128           Serious    2019-08-16  51.495478   \n",
       "4       200701BS66837            Slight    2019-09-03  51.488576   \n",
       "...               ...               ...           ...        ...   \n",
       "660674  201091NM01760            Slight    2022-02-18  57.374005   \n",
       "660675  201091NM01881            Slight    2022-02-21  57.232273   \n",
       "660676  201091NM01935            Slight    2022-02-23  57.585044   \n",
       "660677  201091NM01964           Serious    2022-02-23  57.214898   \n",
       "660678  201091NM02142           Serious    2022-02-28  57.575210   \n",
       "\n",
       "                   Light_Conditions           District Area Longitude  \\\n",
       "0             Darkness - lights lit  Kensington and Chelsea -0.209082   \n",
       "1                          Daylight  Kensington and Chelsea -0.173647   \n",
       "2       Darkness - lighting unknown  Kensington and Chelsea -0.210215   \n",
       "3                          Daylight  Kensington and Chelsea -0.202731   \n",
       "4             Darkness - lights lit  Kensington and Chelsea -0.192487   \n",
       "...                             ...                     ...       ...   \n",
       "660674                     Daylight                Highland -3.467828   \n",
       "660675       Darkness - no lighting                Highland -3.809281   \n",
       "660676                     Daylight                Highland -3.862727   \n",
       "660677       Darkness - no lighting                Highland -3.823997   \n",
       "660678                     Daylight                Highland -3.895673   \n",
       "\n",
       "       Number_of_Casualties Number_of_Vehicles Road_Surface_Conditions  \\\n",
       "0                         1                  2                     Dry   \n",
       "1                         1                  2             Wet or damp   \n",
       "2                         1                  3                     Dry   \n",
       "3                         1                  4                     Dry   \n",
       "4                         1                  2                     Dry   \n",
       "...                     ...                ...                     ...   \n",
       "660674                    2                  1                     Dry   \n",
       "660675                    1                  1            Frost or ice   \n",
       "660676                    1                  3            Frost or ice   \n",
       "660677                    1                  2             Wet or damp   \n",
       "660678                    1                  1             Wet or damp   \n",
       "\n",
       "                 Road_Type Urban_or_Rural_Area     Weather_Conditions  \\\n",
       "0       Single carriageway               Urban     Fine no high winds   \n",
       "1       Single carriageway               Urban  Raining no high winds   \n",
       "2              unaccounted               Urban            unaccounted   \n",
       "3       Single carriageway               Urban     Fine no high winds   \n",
       "4              unaccounted               Urban            unaccounted   \n",
       "...                    ...                 ...                    ...   \n",
       "660674  Single carriageway               Rural     Fine no high winds   \n",
       "660675  Single carriageway               Rural     Fine no high winds   \n",
       "660676  Single carriageway               Rural     Fine no high winds   \n",
       "660677  Single carriageway               Rural     Fine no high winds   \n",
       "660678    Dual carriageway               Rural  Snowing no high winds   \n",
       "\n",
       "                                Vehicle_Type  \n",
       "0                                        Car  \n",
       "1                                        Car  \n",
       "2                      Taxi/Private hire car  \n",
       "3       Bus or coach (17 or more pass seats)  \n",
       "4                              Other vehicle  \n",
       "...                                      ...  \n",
       "660674                                   Car  \n",
       "660675                                   Car  \n",
       "660676                                   Car  \n",
       "660677                 Motorcycle over 500cc  \n",
       "660678                                   Car  \n",
       "\n",
       "[660679 rows x 14 columns]"
      ]
     },
     "execution_count": 29,
     "metadata": {},
     "output_type": "execute_result"
    }
   ],
   "source": [
    "accident"
   ]
  },
  {
   "cell_type": "code",
   "execution_count": 30,
   "id": "03b5ca58-4f1c-4999-a5ac-c3f8c8d15d2c",
   "metadata": {},
   "outputs": [
    {
     "name": "stdout",
     "output_type": "stream",
     "text": [
      "<class 'pandas.core.frame.DataFrame'>\n",
      "RangeIndex: 660679 entries, 0 to 660678\n",
      "Data columns (total 14 columns):\n",
      " #   Column                   Non-Null Count   Dtype         \n",
      "---  ------                   --------------   -----         \n",
      " 0   Index                    660679 non-null  object        \n",
      " 1   Accident_Severity        660679 non-null  category      \n",
      " 2   Accident Date            660679 non-null  datetime64[ns]\n",
      " 3   Latitude                 660679 non-null  category      \n",
      " 4   Light_Conditions         660679 non-null  category      \n",
      " 5   District Area            660679 non-null  category      \n",
      " 6   Longitude                660679 non-null  category      \n",
      " 7   Number_of_Casualties     660679 non-null  category      \n",
      " 8   Number_of_Vehicles       660679 non-null  category      \n",
      " 9   Road_Surface_Conditions  660679 non-null  category      \n",
      " 10  Road_Type                660679 non-null  category      \n",
      " 11  Urban_or_Rural_Area      660679 non-null  category      \n",
      " 12  Weather_Conditions       660679 non-null  category      \n",
      " 13  Vehicle_Type             660679 non-null  category      \n",
      "dtypes: category(12), datetime64[ns](1), object(1)\n",
      "memory usage: 62.3+ MB\n"
     ]
    }
   ],
   "source": [
    "accident.info()"
   ]
  },
  {
   "cell_type": "code",
   "execution_count": 31,
   "id": "77b76482-1d6d-4f08-bc08-3d82eec8a50b",
   "metadata": {},
   "outputs": [],
   "source": [
    "accident['Year'] = accident['Accident Date'].dt.year\n",
    "accident['Month'] = accident['Accident Date'].dt.month\n",
    "accident['Day'] = accident['Accident Date'].dt.day\n",
    "accident['DayOfWeek'] = accident['Accident Date'].dt.dayofweek"
   ]
  },
  {
   "cell_type": "markdown",
   "id": "575778d6-a70a-4141-a119-632706bef4ec",
   "metadata": {},
   "source": [
    "<h1>Insight no.1</h1>\n",
    "<h3>There were more accidents in 2019, followed by 2020, and based on the results, the number of accidents has been decreasing each year.\n",
    "</h3>"
   ]
  },
  {
   "cell_type": "code",
   "execution_count": 32,
   "id": "9ad8ea08-3125-4841-a629-a3334d68e4d1",
   "metadata": {},
   "outputs": [
    {
     "name": "stdout",
     "output_type": "stream",
     "text": [
      "Year\n",
      "2019    182115\n",
      "2020    170591\n",
      "2021    163554\n",
      "2022    144419\n",
      "Name: Accident_Severity, dtype: int64\n"
     ]
    }
   ],
   "source": [
    "accidents_per_year = accident.groupby('Year')['Accident_Severity'].count()\n",
    "print(accidents_per_year)\n",
    "                             "
   ]
  },
  {
   "cell_type": "markdown",
   "id": "e0e19375-255f-435c-8c48-dc36af08f9b7",
   "metadata": {},
   "source": [
    "<h1>Insight no.2</h1>\n",
    "<h3>Theres no correlation between the number of casualties and number of vehicles</h3>"
   ]
  },
  {
   "cell_type": "code",
   "execution_count": 33,
   "id": "f86e70eb-971c-4c1c-839a-89408b3f652d",
   "metadata": {},
   "outputs": [],
   "source": [
    "accident_corr = accident['Number_of_Casualties'].corr(accident['Number_of_Vehicles'])"
   ]
  },
  {
   "cell_type": "code",
   "execution_count": 34,
   "id": "1e228e1f-527d-4e7e-9ae2-e7d24699f172",
   "metadata": {},
   "outputs": [
    {
     "data": {
      "text/plain": [
       "np.float64(0.2288888612692756)"
      ]
     },
     "execution_count": 34,
     "metadata": {},
     "output_type": "execute_result"
    }
   ],
   "source": [
    "accident_corr"
   ]
  },
  {
   "cell_type": "code",
   "execution_count": 35,
   "id": "45180845-7790-45c5-9e4a-d6ae8132c5c7",
   "metadata": {},
   "outputs": [
    {
     "data": {
      "text/plain": [
       "0         1\n",
       "1         1\n",
       "2         1\n",
       "3         1\n",
       "4         1\n",
       "         ..\n",
       "660293    1\n",
       "660309    1\n",
       "660311    1\n",
       "660382    1\n",
       "660383    1\n",
       "Name: Number_of_Casualties, Length: 421678, dtype: category\n",
       "Categories (36, int64): [1, 2, 3, 4, ..., 47, 48, 62, 68]"
      ]
     },
     "execution_count": 35,
     "metadata": {},
     "output_type": "execute_result"
    }
   ],
   "source": [
    "accident[accident['Urban_or_Rural_Area'] == 'Urban']['Number_of_Casualties']"
   ]
  },
  {
   "cell_type": "markdown",
   "id": "475e0729-c0ff-46e2-b310-ddecdee304a9",
   "metadata": {},
   "source": [
    "<h1>Insight no.3</h1>\n",
    "<h3>There's no correlation between urban or Rural area and Number of casualties</h3>"
   ]
  },
  {
   "cell_type": "code",
   "execution_count": 36,
   "id": "df3d1637-c193-4959-8589-7ba7028b4a74",
   "metadata": {},
   "outputs": [
    {
     "name": "stdout",
     "output_type": "stream",
     "text": [
      "0.0\n"
     ]
    }
   ],
   "source": [
    "f_stats, p_value = f_oneway(accident[accident['Urban_or_Rural_Area'] == 'Urban']['Number_of_Casualties'],\n",
    "                             accident[accident['Urban_or_Rural_Area'] == 'Rural']['Number_of_Casualties']\n",
    "                           )\n",
    "print(p_value)"
   ]
  },
  {
   "cell_type": "markdown",
   "id": "356da2cb-9aa2-4fea-8ae6-99c8ae0b4ec7",
   "metadata": {},
   "source": [
    "<h1>Insight no.4</h1>\n",
    "<h3>Birmingham have the highest number of fatal accidents with 105 reported followed by Leeds with 93 reported then Highland with 88 reported</h3>"
   ]
  },
  {
   "cell_type": "code",
   "execution_count": 37,
   "id": "44f9691c-3779-44ba-b308-9b068edc86e7",
   "metadata": {},
   "outputs": [],
   "source": [
    "severity_district = accident[accident['Accident_Severity'] == 'fatal']['District Area'].value_counts()"
   ]
  },
  {
   "cell_type": "code",
   "execution_count": 38,
   "id": "c068d670-5938-4d4d-8894-1e8d9285244b",
   "metadata": {},
   "outputs": [
    {
     "data": {
      "text/plain": [
       "District Area\n",
       "York               0\n",
       "Aberdeen City      0\n",
       "Aberdeenshire      0\n",
       "Adur               0\n",
       "Allerdale          0\n",
       "                  ..\n",
       "Ashford            0\n",
       "Ashfield           0\n",
       "Arun               0\n",
       "Argyll and Bute    0\n",
       "Angus              0\n",
       "Name: count, Length: 422, dtype: int64"
      ]
     },
     "execution_count": 38,
     "metadata": {},
     "output_type": "execute_result"
    }
   ],
   "source": [
    "severity_district"
   ]
  },
  {
   "cell_type": "markdown",
   "id": "50702979-d3ae-4568-a3d9-874df217893c",
   "metadata": {},
   "source": [
    "<h1>Insight no.5</h1>\n",
    "<h3>Saturday has the highest number of accidents (43,164), followed by Wednesday (40,037) and Friday (39,822)</h3>"
   ]
  },
  {
   "cell_type": "code",
   "execution_count": 39,
   "id": "a4b21fc9-35e9-4467-81ac-edee619e7172",
   "metadata": {},
   "outputs": [],
   "source": [
    "accident_day = accident['Accident Date'].dt.day_name().value_counts()"
   ]
  },
  {
   "cell_type": "code",
   "execution_count": 40,
   "id": "864c639a-2119-466f-9b3d-70901b74e9b5",
   "metadata": {},
   "outputs": [
    {
     "data": {
      "text/plain": [
       "Accident Date\n",
       "Saturday     107178\n",
       "Wednesday     99558\n",
       "Thursday      99511\n",
       "Friday        97900\n",
       "Tuesday       94550\n",
       "Sunday        89302\n",
       "Monday        72680\n",
       "Name: count, dtype: int64"
      ]
     },
     "execution_count": 40,
     "metadata": {},
     "output_type": "execute_result"
    }
   ],
   "source": [
    "accident_day"
   ]
  },
  {
   "cell_type": "markdown",
   "id": "18162081-3839-45fd-9786-6313956dd8fb",
   "metadata": {},
   "source": [
    "<h1>Insight no.6</h1>\n",
    "<h3>The proportion of accidents happening on weekdays is 28.27%</h3>"
   ]
  },
  {
   "cell_type": "code",
   "execution_count": 41,
   "id": "83b7f0ed-33d3-4eaf-bba3-f4e1394a2ba7",
   "metadata": {},
   "outputs": [],
   "source": [
    "weekdays = (accident['Accident Date'].dt.dayofweek < 5).mean() * 100"
   ]
  },
  {
   "cell_type": "code",
   "execution_count": 42,
   "id": "44b43d24-cb6f-4992-be39-cd7255023616",
   "metadata": {},
   "outputs": [
    {
     "data": {
      "text/plain": [
       "np.float64(70.26089825770154)"
      ]
     },
     "execution_count": 42,
     "metadata": {},
     "output_type": "execute_result"
    }
   ],
   "source": [
    "weekdays"
   ]
  },
  {
   "cell_type": "markdown",
   "id": "5cd7f285-a1d6-42db-ad93-d0ffc7db990b",
   "metadata": {},
   "source": [
    "<h1>Insight no.7</h1>\n",
    "<h3>The proportion of accidents happening on weekends is 11.84%</h3>"
   ]
  },
  {
   "cell_type": "code",
   "execution_count": 43,
   "id": "1533470a-e49f-467d-b83f-b2e07a7499c7",
   "metadata": {},
   "outputs": [],
   "source": [
    "weekends = (accident['Accident Date'].dt.dayofweek >= 5).mean() * 100"
   ]
  },
  {
   "cell_type": "code",
   "execution_count": 44,
   "id": "79ef44dd-b293-49a6-bef3-fb6bc74014a1",
   "metadata": {},
   "outputs": [
    {
     "data": {
      "text/plain": [
       "np.float64(29.739101742298452)"
      ]
     },
     "execution_count": 44,
     "metadata": {},
     "output_type": "execute_result"
    }
   ],
   "source": [
    "weekends"
   ]
  },
  {
   "cell_type": "markdown",
   "id": "50ccde24-5bb6-47c6-b096-f15171e6a21e",
   "metadata": {},
   "source": [
    "<h1>Insight no.8</h1>\n",
    "<h3>Fatal Accidents Occur Most on Dry Roads</h3>"
   ]
  },
  {
   "cell_type": "code",
   "execution_count": 45,
   "id": "16d867a8-c350-4c76-a87e-e924469d3ec0",
   "metadata": {},
   "outputs": [],
   "source": [
    "severity_rtype = accident[accident['Accident_Severity'] == 'Fatal']['Road_Surface_Conditions'].mode()[0]"
   ]
  },
  {
   "cell_type": "code",
   "execution_count": 46,
   "id": "cc122310-d57f-4b33-b831-8bf12a1f98f4",
   "metadata": {},
   "outputs": [
    {
     "data": {
      "text/plain": [
       "'Dry'"
      ]
     },
     "execution_count": 46,
     "metadata": {},
     "output_type": "execute_result"
    }
   ],
   "source": [
    "severity_rtype"
   ]
  },
  {
   "cell_type": "markdown",
   "id": "8c63b0b4-f069-497d-b707-fe6068d3a01b",
   "metadata": {},
   "source": [
    "<h1>Insight.9</h1>\n",
    "<h3>Contrary to popular belief that most accidents happen in darkness or at night time, the majority of accidents—about 74.62% of the total accidents in 2022—happened during daylight.</h3>"
   ]
  },
  {
   "cell_type": "code",
   "execution_count": 47,
   "id": "ef98010b-7ad6-4198-b52f-7a379125f63c",
   "metadata": {},
   "outputs": [],
   "source": [
    "df_2022 = accident[accident['Year'] == 2022]"
   ]
  },
  {
   "cell_type": "code",
   "execution_count": 48,
   "id": "11b33458-43ba-491f-80a9-35f9334884c8",
   "metadata": {},
   "outputs": [
    {
     "name": "stdout",
     "output_type": "stream",
     "text": [
      "total number of accident in 2019 is 144419\n"
     ]
    },
    {
     "data": {
      "text/plain": [
       "Light_Conditions\n",
       "Daylight                       107768\n",
       "Darkness - lights lit           27544\n",
       "Darkness - no lighting           7302\n",
       "Darkness - lighting unknown      1317\n",
       "Darkness - lights unlit           488\n",
       "Name: count, dtype: int64"
      ]
     },
     "execution_count": 48,
     "metadata": {},
     "output_type": "execute_result"
    }
   ],
   "source": [
    "print(f\"total number of accident in 2019 is {df_2022['Light_Conditions'].value_counts().sum()}\")\n",
    "df_2022['Light_Conditions'].value_counts()"
   ]
  },
  {
   "cell_type": "markdown",
   "id": "95ef8242-c421-431f-9b8d-d3b5dacddd79",
   "metadata": {},
   "source": [
    "<h1>Insight no.10</h1>\n",
    "<h3>85% of car accidents experience a slight status in accident severity, followed by serious accidents.</h3>"
   ]
  },
  {
   "cell_type": "code",
   "execution_count": 49,
   "id": "9309881c-8f72-477f-beb8-26330af5656d",
   "metadata": {},
   "outputs": [
    {
     "name": "stdout",
     "output_type": "stream",
     "text": [
      "The car category records the highest number of accidents, with a total of 497992\n"
     ]
    },
    {
     "data": {
      "text/plain": [
       "Accident_Severity\n",
       "Slight     424954\n",
       "Serious     66461\n",
       "Fatal        6577\n",
       "Name: count, dtype: int64"
      ]
     },
     "execution_count": 49,
     "metadata": {},
     "output_type": "execute_result"
    }
   ],
   "source": [
    "car = accident[accident['Vehicle_Type'] == \"Car\"]\n",
    "print(f\"The car category records the highest number of accidents, with a total of {car['Accident_Severity'].value_counts().sum()}\")\n",
    "car['Accident_Severity'].value_counts()"
   ]
  },
  {
   "cell_type": "markdown",
   "id": "fbc86998-db5d-478a-821c-4eea902c0fe4",
   "metadata": {},
   "source": [
    "<h1>Insight no.11</h1>\n",
    "<h3>There is a strong correlation between The road surface condition and the number of vehicles\n",
    "</h3>"
   ]
  },
  {
   "cell_type": "code",
   "execution_count": 50,
   "id": "99106eef-1643-4854-9fd3-507533495730",
   "metadata": {},
   "outputs": [
    {
     "name": "stdout",
     "output_type": "stream",
     "text": [
      "8.29335009257e-311\n"
     ]
    }
   ],
   "source": [
    "f_stats, p_value = f_oneway(accident[accident['Road_Surface_Conditions'] == 'Dry']['Number_of_Vehicles'],\n",
    "                             accident[accident['Road_Surface_Conditions'] == 'Frost or ice']['Number_of_Vehicles'],\n",
    "                            accident[accident['Road_Surface_Conditions'] == 'Wet or damp']['Number_of_Vehicles']\n",
    "                           )\n",
    "print(p_value)"
   ]
  },
  {
   "cell_type": "code",
   "execution_count": 51,
   "id": "a6326543-9260-421d-aaa9-6b1b57b130b1",
   "metadata": {},
   "outputs": [
    {
     "data": {
      "text/plain": [
       "0         Urban\n",
       "2         Urban\n",
       "3         Urban\n",
       "4         Urban\n",
       "5         Urban\n",
       "          ...  \n",
       "660648    Rural\n",
       "660649    Rural\n",
       "660651    Rural\n",
       "660670    Rural\n",
       "660674    Rural\n",
       "Name: Urban_or_Rural_Area, Length: 447821, dtype: category\n",
       "Categories (3, object): ['Rural', 'Unallocated', 'Urban']"
      ]
     },
     "execution_count": 51,
     "metadata": {},
     "output_type": "execute_result"
    }
   ],
   "source": [
    "accident[accident['Road_Surface_Conditions'] == 'Dry']['Urban_or_Rural_Area']"
   ]
  },
  {
   "cell_type": "markdown",
   "id": "618f521b-34ec-4d5e-a50e-8a4acd073c4f",
   "metadata": {},
   "source": [
    "<h1>Insight no.12</h1>\n",
    "<h3>Urban areas tend to have a higher frequency of accidents, but rural areas often experience more severe crashes due to higher speeds and limited emergency response time. This suggests that while urban accidents are more common, rural accidents may have a greater impact on road safety and fatality rates.</h3>"
   ]
  },
  {
   "cell_type": "code",
   "execution_count": 52,
   "id": "7e4fe172-efae-4a6e-94f0-578b88275bcb",
   "metadata": {},
   "outputs": [
    {
     "name": "stderr",
     "output_type": "stream",
     "text": [
      "C:\\Users\\katherine\\AppData\\Local\\Temp\\ipykernel_8624\\500895078.py:1: FutureWarning: The default of observed=False is deprecated and will be changed to True in a future version of pandas. Pass observed=False to retain current behavior or observed=True to adopt the future default and silence this warning.\n",
      "  accident.groupby('Urban_or_Rural_Area')['Accident_Severity'].value_counts(normalize=True)\n"
     ]
    },
    {
     "data": {
      "text/plain": [
       "Urban_or_Rural_Area  Accident_Severity\n",
       "Rural                Slight               0.820440\n",
       "                     Serious              0.156124\n",
       "                     Fatal                0.023436\n",
       "Unallocated          Slight               0.909091\n",
       "                     Serious              0.090909\n",
       "                     Fatal                0.000000\n",
       "Urban                Slight               0.872026\n",
       "                     Serious              0.120718\n",
       "                     Fatal                0.007257\n",
       "Name: proportion, dtype: float64"
      ]
     },
     "execution_count": 52,
     "metadata": {},
     "output_type": "execute_result"
    }
   ],
   "source": [
    "accident.groupby('Urban_or_Rural_Area')['Accident_Severity'].value_counts(normalize=True)"
   ]
  },
  {
   "cell_type": "markdown",
   "id": "175b25dc-8ad7-47dc-8f45-6844128641ec",
   "metadata": {},
   "source": [
    "<h1>Insight no.13</h1>\n",
    "<h3>Motorcycles and bicycles tend to have a higher proportion of serious or fatal accidents due to lack of external protection and higher vulnerability in crashes.\n",
    "</h3>"
   ]
  },
  {
   "cell_type": "code",
   "execution_count": 53,
   "id": "d81ec652-d4a0-41c3-ba4d-3eb1dc8cc482",
   "metadata": {},
   "outputs": [
    {
     "name": "stdout",
     "output_type": "stream",
     "text": [
      "Vehicle_Type                           Accident_Severity\n",
      "Agricultural vehicle                   Slight                 1644\n",
      "                                       Serious                 282\n",
      "                                       Fatal                    21\n",
      "Bus or coach (17 or more pass seats)   Slight                22180\n",
      "                                       Serious                3373\n",
      "                                       Fatal                   325\n",
      "Car                                    Slight               424954\n",
      "                                       Serious               66461\n",
      "                                       Fatal                  6577\n",
      "Data missing or out of range           Slight                    6\n",
      "                                       Fatal                     0\n",
      "                                       Serious                   0\n",
      "Goods 7.5 tonnes mgw and over          Slight                14770\n",
      "                                       Serious                2321\n",
      "                                       Fatal                   216\n",
      "Goods over 3.5t. and under 7.5t        Slight                 5172\n",
      "                                       Serious                 857\n",
      "                                       Fatal                    67\n",
      "Minibus (8 - 16 passenger seats)       Slight                 1671\n",
      "                                       Serious                 276\n",
      "                                       Fatal                    29\n",
      "Motorcycle 125cc and under             Slight                13049\n",
      "                                       Serious                2031\n",
      "                                       Fatal                   189\n",
      "Motorcycle 50cc and under              Slight                 6494\n",
      "                                       Serious                1014\n",
      "                                       Fatal                    95\n",
      "Motorcycle over 125cc and up to 500cc  Slight                 6537\n",
      "                                       Serious                1014\n",
      "                                       Fatal                   105\n",
      "Motorcycle over 500cc                  Slight                21861\n",
      "                                       Serious                3457\n",
      "                                       Fatal                   339\n",
      "Other vehicle                          Slight                 4800\n",
      "                                       Serious                 767\n",
      "                                       Fatal                    70\n",
      "Pedal cycle                            Slight                  152\n",
      "                                       Serious                  39\n",
      "                                       Fatal                     6\n",
      "Ridden horse                           Slight                    4\n",
      "                                       Fatal                     0\n",
      "                                       Serious                   0\n",
      "Taxi/Private hire car                  Slight                11368\n",
      "                                       Serious                1771\n",
      "                                       Fatal                   155\n",
      "Van / Goods 3.5 tonnes mgw or under    Slight                29139\n",
      "                                       Serious                4554\n",
      "                                       Fatal                   467\n",
      "Name: count, dtype: int64\n"
     ]
    },
    {
     "name": "stderr",
     "output_type": "stream",
     "text": [
      "C:\\Users\\katherine\\AppData\\Local\\Temp\\ipykernel_8624\\3467943036.py:1: FutureWarning: The default of observed=False is deprecated and will be changed to True in a future version of pandas. Pass observed=False to retain current behavior or observed=True to adopt the future default and silence this warning.\n",
      "  severity_by_vehicle = accident.groupby('Vehicle_Type')['Accident_Severity'].value_counts()\n"
     ]
    },
    {
     "data": {
      "text/html": [
       "<div>\n",
       "<style scoped>\n",
       "    .dataframe tbody tr th:only-of-type {\n",
       "        vertical-align: middle;\n",
       "    }\n",
       "\n",
       "    .dataframe tbody tr th {\n",
       "        vertical-align: top;\n",
       "    }\n",
       "\n",
       "    .dataframe thead th {\n",
       "        text-align: right;\n",
       "    }\n",
       "</style>\n",
       "<table border=\"1\" class=\"dataframe\">\n",
       "  <thead>\n",
       "    <tr style=\"text-align: right;\">\n",
       "      <th>Accident_Severity</th>\n",
       "      <th>Fatal</th>\n",
       "      <th>Serious</th>\n",
       "      <th>Slight</th>\n",
       "    </tr>\n",
       "    <tr>\n",
       "      <th>Vehicle_Type</th>\n",
       "      <th></th>\n",
       "      <th></th>\n",
       "      <th></th>\n",
       "    </tr>\n",
       "  </thead>\n",
       "  <tbody>\n",
       "    <tr>\n",
       "      <th>Agricultural vehicle</th>\n",
       "      <td>21</td>\n",
       "      <td>282</td>\n",
       "      <td>1644</td>\n",
       "    </tr>\n",
       "    <tr>\n",
       "      <th>Bus or coach (17 or more pass seats)</th>\n",
       "      <td>325</td>\n",
       "      <td>3373</td>\n",
       "      <td>22180</td>\n",
       "    </tr>\n",
       "    <tr>\n",
       "      <th>Car</th>\n",
       "      <td>6577</td>\n",
       "      <td>66461</td>\n",
       "      <td>424954</td>\n",
       "    </tr>\n",
       "    <tr>\n",
       "      <th>Data missing or out of range</th>\n",
       "      <td>0</td>\n",
       "      <td>0</td>\n",
       "      <td>6</td>\n",
       "    </tr>\n",
       "    <tr>\n",
       "      <th>Goods 7.5 tonnes mgw and over</th>\n",
       "      <td>216</td>\n",
       "      <td>2321</td>\n",
       "      <td>14770</td>\n",
       "    </tr>\n",
       "    <tr>\n",
       "      <th>Goods over 3.5t. and under 7.5t</th>\n",
       "      <td>67</td>\n",
       "      <td>857</td>\n",
       "      <td>5172</td>\n",
       "    </tr>\n",
       "    <tr>\n",
       "      <th>Minibus (8 - 16 passenger seats)</th>\n",
       "      <td>29</td>\n",
       "      <td>276</td>\n",
       "      <td>1671</td>\n",
       "    </tr>\n",
       "    <tr>\n",
       "      <th>Motorcycle 125cc and under</th>\n",
       "      <td>189</td>\n",
       "      <td>2031</td>\n",
       "      <td>13049</td>\n",
       "    </tr>\n",
       "    <tr>\n",
       "      <th>Motorcycle 50cc and under</th>\n",
       "      <td>95</td>\n",
       "      <td>1014</td>\n",
       "      <td>6494</td>\n",
       "    </tr>\n",
       "    <tr>\n",
       "      <th>Motorcycle over 125cc and up to 500cc</th>\n",
       "      <td>105</td>\n",
       "      <td>1014</td>\n",
       "      <td>6537</td>\n",
       "    </tr>\n",
       "    <tr>\n",
       "      <th>Motorcycle over 500cc</th>\n",
       "      <td>339</td>\n",
       "      <td>3457</td>\n",
       "      <td>21861</td>\n",
       "    </tr>\n",
       "    <tr>\n",
       "      <th>Other vehicle</th>\n",
       "      <td>70</td>\n",
       "      <td>767</td>\n",
       "      <td>4800</td>\n",
       "    </tr>\n",
       "    <tr>\n",
       "      <th>Pedal cycle</th>\n",
       "      <td>6</td>\n",
       "      <td>39</td>\n",
       "      <td>152</td>\n",
       "    </tr>\n",
       "    <tr>\n",
       "      <th>Ridden horse</th>\n",
       "      <td>0</td>\n",
       "      <td>0</td>\n",
       "      <td>4</td>\n",
       "    </tr>\n",
       "    <tr>\n",
       "      <th>Taxi/Private hire car</th>\n",
       "      <td>155</td>\n",
       "      <td>1771</td>\n",
       "      <td>11368</td>\n",
       "    </tr>\n",
       "    <tr>\n",
       "      <th>Van / Goods 3.5 tonnes mgw or under</th>\n",
       "      <td>467</td>\n",
       "      <td>4554</td>\n",
       "      <td>29139</td>\n",
       "    </tr>\n",
       "  </tbody>\n",
       "</table>\n",
       "</div>"
      ],
      "text/plain": [
       "Accident_Severity                      Fatal  Serious  Slight\n",
       "Vehicle_Type                                                 \n",
       "Agricultural vehicle                      21      282    1644\n",
       "Bus or coach (17 or more pass seats)     325     3373   22180\n",
       "Car                                     6577    66461  424954\n",
       "Data missing or out of range               0        0       6\n",
       "Goods 7.5 tonnes mgw and over            216     2321   14770\n",
       "Goods over 3.5t. and under 7.5t           67      857    5172\n",
       "Minibus (8 - 16 passenger seats)          29      276    1671\n",
       "Motorcycle 125cc and under               189     2031   13049\n",
       "Motorcycle 50cc and under                 95     1014    6494\n",
       "Motorcycle over 125cc and up to 500cc    105     1014    6537\n",
       "Motorcycle over 500cc                    339     3457   21861\n",
       "Other vehicle                             70      767    4800\n",
       "Pedal cycle                                6       39     152\n",
       "Ridden horse                               0        0       4\n",
       "Taxi/Private hire car                    155     1771   11368\n",
       "Van / Goods 3.5 tonnes mgw or under      467     4554   29139"
      ]
     },
     "execution_count": 53,
     "metadata": {},
     "output_type": "execute_result"
    }
   ],
   "source": [
    "severity_by_vehicle = accident.groupby('Vehicle_Type')['Accident_Severity'].value_counts()\n",
    "print(severity_by_vehicle)\n",
    "\n",
    "severity_by_vehicle.unstack()"
   ]
  },
  {
   "cell_type": "markdown",
   "id": "47134cb4-54b2-44ea-8d76-9e67f067ec8c",
   "metadata": {},
   "source": [
    "<h1>Insight no.14</h1>\n",
    "<h3>Accidents on wet or icy roads may be more severe because vehicles take longer to stop and lose control more easily.</h3>"
   ]
  },
  {
   "cell_type": "code",
   "execution_count": 54,
   "id": "f07a2afd-35fe-41d4-ba39-66e350b42037",
   "metadata": {},
   "outputs": [
    {
     "name": "stdout",
     "output_type": "stream",
     "text": [
      "Road_Surface_Conditions  Accident_Severity\n",
      "Dry                      Slight               380395\n",
      "                         Serious               61638\n",
      "                         Fatal                  5788\n",
      "Flood over 3cm. deep     Slight                  842\n",
      "                         Serious                 152\n",
      "                         Fatal                    23\n",
      "Frost or ice             Slight                16317\n",
      "                         Serious                2007\n",
      "                         Fatal                   193\n",
      "Snow                     Slight                 5290\n",
      "                         Serious                 565\n",
      "                         Fatal                    35\n",
      "Wet or damp              Slight               160303\n",
      "                         Serious               23785\n",
      "                         Fatal                  2620\n",
      "unknown road condition   Slight                  654\n",
      "                         Serious                  70\n",
      "                         Fatal                     2\n",
      "Name: count, dtype: int64\n"
     ]
    },
    {
     "name": "stderr",
     "output_type": "stream",
     "text": [
      "C:\\Users\\katherine\\AppData\\Local\\Temp\\ipykernel_8624\\1929255703.py:1: FutureWarning: The default of observed=False is deprecated and will be changed to True in a future version of pandas. Pass observed=False to retain current behavior or observed=True to adopt the future default and silence this warning.\n",
      "  severity_by_surface = accident.groupby('Road_Surface_Conditions')['Accident_Severity'].value_counts()\n"
     ]
    }
   ],
   "source": [
    "severity_by_surface = accident.groupby('Road_Surface_Conditions')['Accident_Severity'].value_counts()\n",
    "print(severity_by_surface)"
   ]
  },
  {
   "cell_type": "markdown",
   "id": "34d6745e-e16a-478d-8f62-957f059f9c3c",
   "metadata": {},
   "source": [
    "<h1>Insight No. 15</h1>\n",
    "<h3>Most accidents occur in \"Fine no high winds\" conditions with 441,739 slight, 72,046 serious, 7,100 fatal accidents reported</h3>"
   ]
  },
  {
   "cell_type": "code",
   "execution_count": 55,
   "id": "cacaee7e-e0c4-48e2-a5a1-aa7a8e281534",
   "metadata": {},
   "outputs": [
    {
     "name": "stderr",
     "output_type": "stream",
     "text": [
      "C:\\Users\\katherine\\AppData\\Local\\Temp\\ipykernel_8624\\3408235156.py:1: FutureWarning: The default of observed=False is deprecated and will be changed to True in a future version of pandas. Pass observed=False to retain current behavior or observed=True to adopt the future default and silence this warning.\n",
      "  severity_weather = accident.groupby('Weather_Conditions')['Accident_Severity'].value_counts()\n"
     ]
    }
   ],
   "source": [
    "severity_weather = accident.groupby('Weather_Conditions')['Accident_Severity'].value_counts()"
   ]
  },
  {
   "cell_type": "code",
   "execution_count": 56,
   "id": "0b0553db-3564-4f7f-b3f5-55883c0c1156",
   "metadata": {},
   "outputs": [
    {
     "data": {
      "text/plain": [
       "Weather_Conditions     Accident_Severity\n",
       "Fine + high winds      Slight                 7134\n",
       "                       Serious                1245\n",
       "                       Fatal                   175\n",
       "Fine no high winds     Slight               441739\n",
       "                       Serious               72046\n",
       "                       Fatal                  7100\n",
       "Fog or mist            Slight                 2963\n",
       "                       Serious                 483\n",
       "                       Fatal                    82\n",
       "Other                  Slight                15184\n",
       "                       Serious                1801\n",
       "                       Fatal                   165\n",
       "Raining + high winds   Slight                 8209\n",
       "                       Serious                1261\n",
       "                       Fatal                   145\n",
       "Raining no high winds  Slight                69380\n",
       "                       Serious                9468\n",
       "                       Fatal                   848\n",
       "Snowing + high winds   Slight                  773\n",
       "                       Serious                 109\n",
       "                       Fatal                     3\n",
       "Snowing no high winds  Slight                 5637\n",
       "                       Serious                 565\n",
       "                       Fatal                    36\n",
       "unaccounted            Slight                12782\n",
       "                       Serious                1239\n",
       "                       Fatal                   107\n",
       "Name: count, dtype: int64"
      ]
     },
     "execution_count": 56,
     "metadata": {},
     "output_type": "execute_result"
    }
   ],
   "source": [
    "\n",
    "severity_weather"
   ]
  },
  {
   "cell_type": "markdown",
   "id": "3d4f8ab7-cd67-4bbf-ab39-b53d6181e041",
   "metadata": {},
   "source": [
    "<h1>Insight no.16</h1>\n",
    "<h3>Motorcycles and bicycles may peak in summer (June-August) due to good weather.\n",
    "Heavy vehicles (trucks, buses) may have steady numbers year-round because of commercial activity.\n",
    "Private cars may increase during holidays (December, July, August) due to vacation trips.</h3>"
   ]
  },
  {
   "cell_type": "code",
   "execution_count": 57,
   "id": "b01ea938-7bab-46a8-b512-06b614e41539",
   "metadata": {},
   "outputs": [
    {
     "name": "stderr",
     "output_type": "stream",
     "text": [
      "C:\\Users\\katherine\\AppData\\Local\\Temp\\ipykernel_8624\\1530064692.py:1: FutureWarning: The default of observed=False is deprecated and will be changed to True in a future version of pandas. Pass observed=False to retain current behavior or observed=True to adopt the future default and silence this warning.\n",
      "  vehicle_seasonal = accident.groupby(['Month', 'Vehicle_Type']).size().unstack().fillna(0)\n"
     ]
    }
   ],
   "source": [
    "vehicle_seasonal = accident.groupby(['Month', 'Vehicle_Type']).size().unstack().fillna(0)"
   ]
  },
  {
   "cell_type": "code",
   "execution_count": 58,
   "id": "0338353c-c122-4e86-85f8-0269f83fee26",
   "metadata": {},
   "outputs": [
    {
     "data": {
      "text/html": [
       "<div>\n",
       "<style scoped>\n",
       "    .dataframe tbody tr th:only-of-type {\n",
       "        vertical-align: middle;\n",
       "    }\n",
       "\n",
       "    .dataframe tbody tr th {\n",
       "        vertical-align: top;\n",
       "    }\n",
       "\n",
       "    .dataframe thead th {\n",
       "        text-align: right;\n",
       "    }\n",
       "</style>\n",
       "<table border=\"1\" class=\"dataframe\">\n",
       "  <thead>\n",
       "    <tr style=\"text-align: right;\">\n",
       "      <th>Vehicle_Type</th>\n",
       "      <th>Agricultural vehicle</th>\n",
       "      <th>Bus or coach (17 or more pass seats)</th>\n",
       "      <th>Car</th>\n",
       "      <th>Data missing or out of range</th>\n",
       "      <th>Goods 7.5 tonnes mgw and over</th>\n",
       "      <th>Goods over 3.5t. and under 7.5t</th>\n",
       "      <th>Minibus (8 - 16 passenger seats)</th>\n",
       "      <th>Motorcycle 125cc and under</th>\n",
       "      <th>Motorcycle 50cc and under</th>\n",
       "      <th>Motorcycle over 125cc and up to 500cc</th>\n",
       "      <th>Motorcycle over 500cc</th>\n",
       "      <th>Other vehicle</th>\n",
       "      <th>Pedal cycle</th>\n",
       "      <th>Ridden horse</th>\n",
       "      <th>Taxi/Private hire car</th>\n",
       "      <th>Van / Goods 3.5 tonnes mgw or under</th>\n",
       "    </tr>\n",
       "    <tr>\n",
       "      <th>Month</th>\n",
       "      <th></th>\n",
       "      <th></th>\n",
       "      <th></th>\n",
       "      <th></th>\n",
       "      <th></th>\n",
       "      <th></th>\n",
       "      <th></th>\n",
       "      <th></th>\n",
       "      <th></th>\n",
       "      <th></th>\n",
       "      <th></th>\n",
       "      <th></th>\n",
       "      <th></th>\n",
       "      <th></th>\n",
       "      <th></th>\n",
       "      <th></th>\n",
       "    </tr>\n",
       "  </thead>\n",
       "  <tbody>\n",
       "    <tr>\n",
       "      <th>1</th>\n",
       "      <td>154</td>\n",
       "      <td>2161</td>\n",
       "      <td>39751</td>\n",
       "      <td>0</td>\n",
       "      <td>1402</td>\n",
       "      <td>527</td>\n",
       "      <td>160</td>\n",
       "      <td>1188</td>\n",
       "      <td>635</td>\n",
       "      <td>623</td>\n",
       "      <td>2072</td>\n",
       "      <td>413</td>\n",
       "      <td>21</td>\n",
       "      <td>2</td>\n",
       "      <td>1081</td>\n",
       "      <td>2682</td>\n",
       "    </tr>\n",
       "    <tr>\n",
       "      <th>2</th>\n",
       "      <td>149</td>\n",
       "      <td>1965</td>\n",
       "      <td>37306</td>\n",
       "      <td>0</td>\n",
       "      <td>1284</td>\n",
       "      <td>446</td>\n",
       "      <td>149</td>\n",
       "      <td>1193</td>\n",
       "      <td>605</td>\n",
       "      <td>583</td>\n",
       "      <td>1871</td>\n",
       "      <td>414</td>\n",
       "      <td>16</td>\n",
       "      <td>0</td>\n",
       "      <td>953</td>\n",
       "      <td>2557</td>\n",
       "    </tr>\n",
       "    <tr>\n",
       "      <th>3</th>\n",
       "      <td>174</td>\n",
       "      <td>2141</td>\n",
       "      <td>40677</td>\n",
       "      <td>1</td>\n",
       "      <td>1423</td>\n",
       "      <td>477</td>\n",
       "      <td>160</td>\n",
       "      <td>1290</td>\n",
       "      <td>695</td>\n",
       "      <td>680</td>\n",
       "      <td>2043</td>\n",
       "      <td>432</td>\n",
       "      <td>19</td>\n",
       "      <td>0</td>\n",
       "      <td>1060</td>\n",
       "      <td>2814</td>\n",
       "    </tr>\n",
       "    <tr>\n",
       "      <th>4</th>\n",
       "      <td>146</td>\n",
       "      <td>1912</td>\n",
       "      <td>39132</td>\n",
       "      <td>0</td>\n",
       "      <td>1394</td>\n",
       "      <td>492</td>\n",
       "      <td>177</td>\n",
       "      <td>1131</td>\n",
       "      <td>574</td>\n",
       "      <td>580</td>\n",
       "      <td>2032</td>\n",
       "      <td>473</td>\n",
       "      <td>6</td>\n",
       "      <td>1</td>\n",
       "      <td>1037</td>\n",
       "      <td>2657</td>\n",
       "    </tr>\n",
       "    <tr>\n",
       "      <th>5</th>\n",
       "      <td>184</td>\n",
       "      <td>2265</td>\n",
       "      <td>42547</td>\n",
       "      <td>0</td>\n",
       "      <td>1489</td>\n",
       "      <td>496</td>\n",
       "      <td>185</td>\n",
       "      <td>1248</td>\n",
       "      <td>619</td>\n",
       "      <td>669</td>\n",
       "      <td>2115</td>\n",
       "      <td>498</td>\n",
       "      <td>16</td>\n",
       "      <td>0</td>\n",
       "      <td>1161</td>\n",
       "      <td>2860</td>\n",
       "    </tr>\n",
       "    <tr>\n",
       "      <th>6</th>\n",
       "      <td>142</td>\n",
       "      <td>2204</td>\n",
       "      <td>42581</td>\n",
       "      <td>0</td>\n",
       "      <td>1437</td>\n",
       "      <td>520</td>\n",
       "      <td>168</td>\n",
       "      <td>1304</td>\n",
       "      <td>626</td>\n",
       "      <td>677</td>\n",
       "      <td>2154</td>\n",
       "      <td>491</td>\n",
       "      <td>19</td>\n",
       "      <td>0</td>\n",
       "      <td>1190</td>\n",
       "      <td>2968</td>\n",
       "    </tr>\n",
       "    <tr>\n",
       "      <th>7</th>\n",
       "      <td>178</td>\n",
       "      <td>2319</td>\n",
       "      <td>43343</td>\n",
       "      <td>0</td>\n",
       "      <td>1485</td>\n",
       "      <td>574</td>\n",
       "      <td>168</td>\n",
       "      <td>1351</td>\n",
       "      <td>642</td>\n",
       "      <td>673</td>\n",
       "      <td>2109</td>\n",
       "      <td>452</td>\n",
       "      <td>19</td>\n",
       "      <td>0</td>\n",
       "      <td>1145</td>\n",
       "      <td>2987</td>\n",
       "    </tr>\n",
       "    <tr>\n",
       "      <th>8</th>\n",
       "      <td>155</td>\n",
       "      <td>2037</td>\n",
       "      <td>40718</td>\n",
       "      <td>0</td>\n",
       "      <td>1424</td>\n",
       "      <td>503</td>\n",
       "      <td>169</td>\n",
       "      <td>1244</td>\n",
       "      <td>642</td>\n",
       "      <td>580</td>\n",
       "      <td>2117</td>\n",
       "      <td>445</td>\n",
       "      <td>17</td>\n",
       "      <td>1</td>\n",
       "      <td>1050</td>\n",
       "      <td>2811</td>\n",
       "    </tr>\n",
       "    <tr>\n",
       "      <th>9</th>\n",
       "      <td>157</td>\n",
       "      <td>2201</td>\n",
       "      <td>42525</td>\n",
       "      <td>0</td>\n",
       "      <td>1460</td>\n",
       "      <td>501</td>\n",
       "      <td>164</td>\n",
       "      <td>1323</td>\n",
       "      <td>643</td>\n",
       "      <td>672</td>\n",
       "      <td>2265</td>\n",
       "      <td>443</td>\n",
       "      <td>18</td>\n",
       "      <td>0</td>\n",
       "      <td>1170</td>\n",
       "      <td>2913</td>\n",
       "    </tr>\n",
       "    <tr>\n",
       "      <th>10</th>\n",
       "      <td>181</td>\n",
       "      <td>2282</td>\n",
       "      <td>44791</td>\n",
       "      <td>4</td>\n",
       "      <td>1571</td>\n",
       "      <td>543</td>\n",
       "      <td>159</td>\n",
       "      <td>1401</td>\n",
       "      <td>656</td>\n",
       "      <td>702</td>\n",
       "      <td>2375</td>\n",
       "      <td>556</td>\n",
       "      <td>13</td>\n",
       "      <td>0</td>\n",
       "      <td>1238</td>\n",
       "      <td>3108</td>\n",
       "    </tr>\n",
       "    <tr>\n",
       "      <th>11</th>\n",
       "      <td>174</td>\n",
       "      <td>2375</td>\n",
       "      <td>45641</td>\n",
       "      <td>0</td>\n",
       "      <td>1524</td>\n",
       "      <td>564</td>\n",
       "      <td>175</td>\n",
       "      <td>1393</td>\n",
       "      <td>659</td>\n",
       "      <td>658</td>\n",
       "      <td>2391</td>\n",
       "      <td>581</td>\n",
       "      <td>16</td>\n",
       "      <td>0</td>\n",
       "      <td>1172</td>\n",
       "      <td>3101</td>\n",
       "    </tr>\n",
       "    <tr>\n",
       "      <th>12</th>\n",
       "      <td>153</td>\n",
       "      <td>2016</td>\n",
       "      <td>38980</td>\n",
       "      <td>1</td>\n",
       "      <td>1414</td>\n",
       "      <td>453</td>\n",
       "      <td>142</td>\n",
       "      <td>1203</td>\n",
       "      <td>607</td>\n",
       "      <td>559</td>\n",
       "      <td>2113</td>\n",
       "      <td>439</td>\n",
       "      <td>17</td>\n",
       "      <td>0</td>\n",
       "      <td>1037</td>\n",
       "      <td>2702</td>\n",
       "    </tr>\n",
       "  </tbody>\n",
       "</table>\n",
       "</div>"
      ],
      "text/plain": [
       "Vehicle_Type  Agricultural vehicle  Bus or coach (17 or more pass seats)  \\\n",
       "Month                                                                      \n",
       "1                              154                                  2161   \n",
       "2                              149                                  1965   \n",
       "3                              174                                  2141   \n",
       "4                              146                                  1912   \n",
       "5                              184                                  2265   \n",
       "6                              142                                  2204   \n",
       "7                              178                                  2319   \n",
       "8                              155                                  2037   \n",
       "9                              157                                  2201   \n",
       "10                             181                                  2282   \n",
       "11                             174                                  2375   \n",
       "12                             153                                  2016   \n",
       "\n",
       "Vehicle_Type    Car  Data missing or out of range  \\\n",
       "Month                                               \n",
       "1             39751                             0   \n",
       "2             37306                             0   \n",
       "3             40677                             1   \n",
       "4             39132                             0   \n",
       "5             42547                             0   \n",
       "6             42581                             0   \n",
       "7             43343                             0   \n",
       "8             40718                             0   \n",
       "9             42525                             0   \n",
       "10            44791                             4   \n",
       "11            45641                             0   \n",
       "12            38980                             1   \n",
       "\n",
       "Vehicle_Type  Goods 7.5 tonnes mgw and over  Goods over 3.5t. and under 7.5t  \\\n",
       "Month                                                                          \n",
       "1                                      1402                              527   \n",
       "2                                      1284                              446   \n",
       "3                                      1423                              477   \n",
       "4                                      1394                              492   \n",
       "5                                      1489                              496   \n",
       "6                                      1437                              520   \n",
       "7                                      1485                              574   \n",
       "8                                      1424                              503   \n",
       "9                                      1460                              501   \n",
       "10                                     1571                              543   \n",
       "11                                     1524                              564   \n",
       "12                                     1414                              453   \n",
       "\n",
       "Vehicle_Type  Minibus (8 - 16 passenger seats)  Motorcycle 125cc and under  \\\n",
       "Month                                                                        \n",
       "1                                          160                        1188   \n",
       "2                                          149                        1193   \n",
       "3                                          160                        1290   \n",
       "4                                          177                        1131   \n",
       "5                                          185                        1248   \n",
       "6                                          168                        1304   \n",
       "7                                          168                        1351   \n",
       "8                                          169                        1244   \n",
       "9                                          164                        1323   \n",
       "10                                         159                        1401   \n",
       "11                                         175                        1393   \n",
       "12                                         142                        1203   \n",
       "\n",
       "Vehicle_Type  Motorcycle 50cc and under  \\\n",
       "Month                                     \n",
       "1                                   635   \n",
       "2                                   605   \n",
       "3                                   695   \n",
       "4                                   574   \n",
       "5                                   619   \n",
       "6                                   626   \n",
       "7                                   642   \n",
       "8                                   642   \n",
       "9                                   643   \n",
       "10                                  656   \n",
       "11                                  659   \n",
       "12                                  607   \n",
       "\n",
       "Vehicle_Type  Motorcycle over 125cc and up to 500cc  Motorcycle over 500cc  \\\n",
       "Month                                                                        \n",
       "1                                               623                   2072   \n",
       "2                                               583                   1871   \n",
       "3                                               680                   2043   \n",
       "4                                               580                   2032   \n",
       "5                                               669                   2115   \n",
       "6                                               677                   2154   \n",
       "7                                               673                   2109   \n",
       "8                                               580                   2117   \n",
       "9                                               672                   2265   \n",
       "10                                              702                   2375   \n",
       "11                                              658                   2391   \n",
       "12                                              559                   2113   \n",
       "\n",
       "Vehicle_Type  Other vehicle  Pedal cycle  Ridden horse  Taxi/Private hire car  \\\n",
       "Month                                                                           \n",
       "1                       413           21             2                   1081   \n",
       "2                       414           16             0                    953   \n",
       "3                       432           19             0                   1060   \n",
       "4                       473            6             1                   1037   \n",
       "5                       498           16             0                   1161   \n",
       "6                       491           19             0                   1190   \n",
       "7                       452           19             0                   1145   \n",
       "8                       445           17             1                   1050   \n",
       "9                       443           18             0                   1170   \n",
       "10                      556           13             0                   1238   \n",
       "11                      581           16             0                   1172   \n",
       "12                      439           17             0                   1037   \n",
       "\n",
       "Vehicle_Type  Van / Goods 3.5 tonnes mgw or under  \n",
       "Month                                              \n",
       "1                                            2682  \n",
       "2                                            2557  \n",
       "3                                            2814  \n",
       "4                                            2657  \n",
       "5                                            2860  \n",
       "6                                            2968  \n",
       "7                                            2987  \n",
       "8                                            2811  \n",
       "9                                            2913  \n",
       "10                                           3108  \n",
       "11                                           3101  \n",
       "12                                           2702  "
      ]
     },
     "execution_count": 58,
     "metadata": {},
     "output_type": "execute_result"
    }
   ],
   "source": [
    "vehicle_seasonal"
   ]
  },
  {
   "cell_type": "markdown",
   "id": "e8524667-8b5f-45d0-9441-5907700b1edc",
   "metadata": {},
   "source": [
    "<h1>Insight no.17</h1>\n",
    "<h3>Saturday has the highest number of accidents (43,164), followed by Wednesday (40,037) and Friday (39,822)</h3>"
   ]
  },
  {
   "cell_type": "code",
   "execution_count": 59,
   "id": "7c951b1d-621b-4fb9-bc51-c22c7c2f5d9c",
   "metadata": {},
   "outputs": [],
   "source": [
    "accident_day = accident['Accident Date'].dt.day_name().value_counts()"
   ]
  },
  {
   "cell_type": "code",
   "execution_count": 60,
   "id": "75ebd37d-c8f8-4ecc-a00d-8201e1133024",
   "metadata": {},
   "outputs": [
    {
     "data": {
      "text/plain": [
       "Accident Date\n",
       "Saturday     107178\n",
       "Wednesday     99558\n",
       "Thursday      99511\n",
       "Friday        97900\n",
       "Tuesday       94550\n",
       "Sunday        89302\n",
       "Monday        72680\n",
       "Name: count, dtype: int64"
      ]
     },
     "execution_count": 60,
     "metadata": {},
     "output_type": "execute_result"
    }
   ],
   "source": [
    "accident_day"
   ]
  },
  {
   "cell_type": "markdown",
   "id": "9c8df54e-81bf-47b2-968c-8619933d2a38",
   "metadata": {},
   "source": [
    "<h1>Insight no.18</h1>\n",
    "<h3>Motorcycles and bicycles may have fewer night-time incidents, as riders avoid poor visibility conditions.\n",
    "Taxis and private hire cars may have higher numbers at night, reflecting nightlife travel.\n",
    "</h3>"
   ]
  },
  {
   "cell_type": "code",
   "execution_count": 61,
   "id": "56e0170e-6c41-4b54-84b6-952878dcc5b9",
   "metadata": {},
   "outputs": [
    {
     "name": "stderr",
     "output_type": "stream",
     "text": [
      "C:\\Users\\katherine\\AppData\\Local\\Temp\\ipykernel_8624\\1750036037.py:1: FutureWarning: The default of observed=False is deprecated and will be changed to True in a future version of pandas. Pass observed=False to retain current behavior or observed=True to adopt the future default and silence this warning.\n",
      "  light_vehicle = accident.groupby(['Light_Conditions', 'Vehicle_Type']).size().unstack().fillna(0)\n"
     ]
    }
   ],
   "source": [
    "light_vehicle = accident.groupby(['Light_Conditions', 'Vehicle_Type']).size().unstack().fillna(0)"
   ]
  },
  {
   "cell_type": "code",
   "execution_count": 62,
   "id": "e7f48f4e-a872-48a2-895c-998d0901161f",
   "metadata": {},
   "outputs": [
    {
     "data": {
      "text/html": [
       "<div>\n",
       "<style scoped>\n",
       "    .dataframe tbody tr th:only-of-type {\n",
       "        vertical-align: middle;\n",
       "    }\n",
       "\n",
       "    .dataframe tbody tr th {\n",
       "        vertical-align: top;\n",
       "    }\n",
       "\n",
       "    .dataframe thead th {\n",
       "        text-align: right;\n",
       "    }\n",
       "</style>\n",
       "<table border=\"1\" class=\"dataframe\">\n",
       "  <thead>\n",
       "    <tr style=\"text-align: right;\">\n",
       "      <th>Vehicle_Type</th>\n",
       "      <th>Agricultural vehicle</th>\n",
       "      <th>Bus or coach (17 or more pass seats)</th>\n",
       "      <th>Car</th>\n",
       "      <th>Data missing or out of range</th>\n",
       "      <th>Goods 7.5 tonnes mgw and over</th>\n",
       "      <th>Goods over 3.5t. and under 7.5t</th>\n",
       "      <th>Minibus (8 - 16 passenger seats)</th>\n",
       "      <th>Motorcycle 125cc and under</th>\n",
       "      <th>Motorcycle 50cc and under</th>\n",
       "      <th>Motorcycle over 125cc and up to 500cc</th>\n",
       "      <th>Motorcycle over 500cc</th>\n",
       "      <th>Other vehicle</th>\n",
       "      <th>Pedal cycle</th>\n",
       "      <th>Ridden horse</th>\n",
       "      <th>Taxi/Private hire car</th>\n",
       "      <th>Van / Goods 3.5 tonnes mgw or under</th>\n",
       "    </tr>\n",
       "    <tr>\n",
       "      <th>Light_Conditions</th>\n",
       "      <th></th>\n",
       "      <th></th>\n",
       "      <th></th>\n",
       "      <th></th>\n",
       "      <th></th>\n",
       "      <th></th>\n",
       "      <th></th>\n",
       "      <th></th>\n",
       "      <th></th>\n",
       "      <th></th>\n",
       "      <th></th>\n",
       "      <th></th>\n",
       "      <th></th>\n",
       "      <th></th>\n",
       "      <th></th>\n",
       "      <th></th>\n",
       "    </tr>\n",
       "  </thead>\n",
       "  <tbody>\n",
       "    <tr>\n",
       "      <th>Darkness - lighting unknown</th>\n",
       "      <td>19</td>\n",
       "      <td>267</td>\n",
       "      <td>4914</td>\n",
       "      <td>0</td>\n",
       "      <td>185</td>\n",
       "      <td>59</td>\n",
       "      <td>20</td>\n",
       "      <td>136</td>\n",
       "      <td>68</td>\n",
       "      <td>86</td>\n",
       "      <td>228</td>\n",
       "      <td>57</td>\n",
       "      <td>2</td>\n",
       "      <td>0</td>\n",
       "      <td>131</td>\n",
       "      <td>312</td>\n",
       "    </tr>\n",
       "    <tr>\n",
       "      <th>Darkness - lights lit</th>\n",
       "      <td>365</td>\n",
       "      <td>5142</td>\n",
       "      <td>96994</td>\n",
       "      <td>1</td>\n",
       "      <td>3440</td>\n",
       "      <td>1192</td>\n",
       "      <td>347</td>\n",
       "      <td>3074</td>\n",
       "      <td>1494</td>\n",
       "      <td>1480</td>\n",
       "      <td>5176</td>\n",
       "      <td>1126</td>\n",
       "      <td>39</td>\n",
       "      <td>1</td>\n",
       "      <td>2658</td>\n",
       "      <td>6806</td>\n",
       "    </tr>\n",
       "    <tr>\n",
       "      <th>Darkness - lights unlit</th>\n",
       "      <td>7</td>\n",
       "      <td>112</td>\n",
       "      <td>1933</td>\n",
       "      <td>0</td>\n",
       "      <td>67</td>\n",
       "      <td>16</td>\n",
       "      <td>4</td>\n",
       "      <td>50</td>\n",
       "      <td>26</td>\n",
       "      <td>25</td>\n",
       "      <td>88</td>\n",
       "      <td>23</td>\n",
       "      <td>2</td>\n",
       "      <td>0</td>\n",
       "      <td>49</td>\n",
       "      <td>141</td>\n",
       "    </tr>\n",
       "    <tr>\n",
       "      <th>Darkness - no lighting</th>\n",
       "      <td>113</td>\n",
       "      <td>1427</td>\n",
       "      <td>28385</td>\n",
       "      <td>0</td>\n",
       "      <td>963</td>\n",
       "      <td>367</td>\n",
       "      <td>121</td>\n",
       "      <td>794</td>\n",
       "      <td>424</td>\n",
       "      <td>447</td>\n",
       "      <td>1428</td>\n",
       "      <td>299</td>\n",
       "      <td>8</td>\n",
       "      <td>0</td>\n",
       "      <td>704</td>\n",
       "      <td>1957</td>\n",
       "    </tr>\n",
       "    <tr>\n",
       "      <th>Daylight</th>\n",
       "      <td>1443</td>\n",
       "      <td>18930</td>\n",
       "      <td>365766</td>\n",
       "      <td>5</td>\n",
       "      <td>12652</td>\n",
       "      <td>4462</td>\n",
       "      <td>1484</td>\n",
       "      <td>11215</td>\n",
       "      <td>5591</td>\n",
       "      <td>5618</td>\n",
       "      <td>18737</td>\n",
       "      <td>4132</td>\n",
       "      <td>146</td>\n",
       "      <td>3</td>\n",
       "      <td>9752</td>\n",
       "      <td>24944</td>\n",
       "    </tr>\n",
       "  </tbody>\n",
       "</table>\n",
       "</div>"
      ],
      "text/plain": [
       "Vehicle_Type                 Agricultural vehicle  \\\n",
       "Light_Conditions                                    \n",
       "Darkness - lighting unknown                    19   \n",
       "Darkness - lights lit                         365   \n",
       "Darkness - lights unlit                         7   \n",
       "Darkness - no lighting                        113   \n",
       "Daylight                                     1443   \n",
       "\n",
       "Vehicle_Type                 Bus or coach (17 or more pass seats)     Car  \\\n",
       "Light_Conditions                                                            \n",
       "Darkness - lighting unknown                                   267    4914   \n",
       "Darkness - lights lit                                        5142   96994   \n",
       "Darkness - lights unlit                                       112    1933   \n",
       "Darkness - no lighting                                       1427   28385   \n",
       "Daylight                                                    18930  365766   \n",
       "\n",
       "Vehicle_Type                 Data missing or out of range  \\\n",
       "Light_Conditions                                            \n",
       "Darkness - lighting unknown                             0   \n",
       "Darkness - lights lit                                   1   \n",
       "Darkness - lights unlit                                 0   \n",
       "Darkness - no lighting                                  0   \n",
       "Daylight                                                5   \n",
       "\n",
       "Vehicle_Type                 Goods 7.5 tonnes mgw and over  \\\n",
       "Light_Conditions                                             \n",
       "Darkness - lighting unknown                            185   \n",
       "Darkness - lights lit                                 3440   \n",
       "Darkness - lights unlit                                 67   \n",
       "Darkness - no lighting                                 963   \n",
       "Daylight                                             12652   \n",
       "\n",
       "Vehicle_Type                 Goods over 3.5t. and under 7.5t  \\\n",
       "Light_Conditions                                               \n",
       "Darkness - lighting unknown                               59   \n",
       "Darkness - lights lit                                   1192   \n",
       "Darkness - lights unlit                                   16   \n",
       "Darkness - no lighting                                   367   \n",
       "Daylight                                                4462   \n",
       "\n",
       "Vehicle_Type                 Minibus (8 - 16 passenger seats)  \\\n",
       "Light_Conditions                                                \n",
       "Darkness - lighting unknown                                20   \n",
       "Darkness - lights lit                                     347   \n",
       "Darkness - lights unlit                                     4   \n",
       "Darkness - no lighting                                    121   \n",
       "Daylight                                                 1484   \n",
       "\n",
       "Vehicle_Type                 Motorcycle 125cc and under  \\\n",
       "Light_Conditions                                          \n",
       "Darkness - lighting unknown                         136   \n",
       "Darkness - lights lit                              3074   \n",
       "Darkness - lights unlit                              50   \n",
       "Darkness - no lighting                              794   \n",
       "Daylight                                          11215   \n",
       "\n",
       "Vehicle_Type                 Motorcycle 50cc and under  \\\n",
       "Light_Conditions                                         \n",
       "Darkness - lighting unknown                         68   \n",
       "Darkness - lights lit                             1494   \n",
       "Darkness - lights unlit                             26   \n",
       "Darkness - no lighting                             424   \n",
       "Daylight                                          5591   \n",
       "\n",
       "Vehicle_Type                 Motorcycle over 125cc and up to 500cc  \\\n",
       "Light_Conditions                                                     \n",
       "Darkness - lighting unknown                                     86   \n",
       "Darkness - lights lit                                         1480   \n",
       "Darkness - lights unlit                                         25   \n",
       "Darkness - no lighting                                         447   \n",
       "Daylight                                                      5618   \n",
       "\n",
       "Vehicle_Type                 Motorcycle over 500cc  Other vehicle  \\\n",
       "Light_Conditions                                                    \n",
       "Darkness - lighting unknown                    228             57   \n",
       "Darkness - lights lit                         5176           1126   \n",
       "Darkness - lights unlit                         88             23   \n",
       "Darkness - no lighting                        1428            299   \n",
       "Daylight                                     18737           4132   \n",
       "\n",
       "Vehicle_Type                 Pedal cycle  Ridden horse  Taxi/Private hire car  \\\n",
       "Light_Conditions                                                                \n",
       "Darkness - lighting unknown            2             0                    131   \n",
       "Darkness - lights lit                 39             1                   2658   \n",
       "Darkness - lights unlit                2             0                     49   \n",
       "Darkness - no lighting                 8             0                    704   \n",
       "Daylight                             146             3                   9752   \n",
       "\n",
       "Vehicle_Type                 Van / Goods 3.5 tonnes mgw or under  \n",
       "Light_Conditions                                                  \n",
       "Darkness - lighting unknown                                  312  \n",
       "Darkness - lights lit                                       6806  \n",
       "Darkness - lights unlit                                      141  \n",
       "Darkness - no lighting                                      1957  \n",
       "Daylight                                                   24944  "
      ]
     },
     "execution_count": 62,
     "metadata": {},
     "output_type": "execute_result"
    }
   ],
   "source": [
    "light_vehicle"
   ]
  },
  {
   "cell_type": "markdown",
   "id": "ec2105de-2305-4782-99d4-cf7712edf606",
   "metadata": {},
   "source": [
    "<h1>Insight no.19</h1>"
   ]
  },
  {
   "cell_type": "markdown",
   "id": "2d4e4117-f14c-4d36-824b-67b674df0fe5",
   "metadata": {},
   "source": [
    "<h3>Single carriageways have the highest number of accidents with 415,557 slight, 70,059 serious, and 6,527 fatal accidents reported</h3>"
   ]
  },
  {
   "cell_type": "code",
   "execution_count": 63,
   "id": "ab7caef7-fa2b-4cfe-a5ae-2e36bb0fae6d",
   "metadata": {},
   "outputs": [
    {
     "name": "stderr",
     "output_type": "stream",
     "text": [
      "C:\\Users\\katherine\\AppData\\Local\\Temp\\ipykernel_8624\\2649944634.py:1: FutureWarning: The default of observed=False is deprecated and will be changed to True in a future version of pandas. Pass observed=False to retain current behavior or observed=True to adopt the future default and silence this warning.\n",
      "  rtype_severity = accident.groupby('Road_Type')['Accident_Severity'].value_counts()\n"
     ]
    }
   ],
   "source": [
    "rtype_severity = accident.groupby('Road_Type')['Accident_Severity'].value_counts()"
   ]
  },
  {
   "cell_type": "code",
   "execution_count": 64,
   "id": "81ef254d-43e6-48b5-8e9d-e2ae0e3ebbae",
   "metadata": {},
   "outputs": [
    {
     "data": {
      "text/plain": [
       "Road_Type           Accident_Severity\n",
       "Dual carriageway    Slight                85863\n",
       "                    Serious               11746\n",
       "                    Fatal                  1815\n",
       "One way street      Slight                11809\n",
       "                    Serious                1655\n",
       "                    Fatal                    95\n",
       "Roundabout          Slight                40185\n",
       "                    Serious                3665\n",
       "                    Fatal                   142\n",
       "Single carriageway  Slight               415557\n",
       "                    Serious               70059\n",
       "                    Fatal                  6527\n",
       "Slip road           Slight                 6381\n",
       "                    Serious                 611\n",
       "                    Fatal                    49\n",
       "unaccounted         Slight                 4006\n",
       "                    Serious                 481\n",
       "                    Fatal                    33\n",
       "Name: count, dtype: int64"
      ]
     },
     "execution_count": 64,
     "metadata": {},
     "output_type": "execute_result"
    }
   ],
   "source": [
    "rtype_severity"
   ]
  },
  {
   "cell_type": "markdown",
   "id": "e233679d-a97b-4cde-bdb4-c6ee53e965bc",
   "metadata": {},
   "source": [
    "<h1>Insight no.20</h1>\n",
    "<h3>The highest accident count (45) occurs at latitude 52.949719, longitude -0.977611</h3>"
   ]
  },
  {
   "cell_type": "code",
   "execution_count": 65,
   "id": "224f2258-82cc-4762-b279-eb583cf8a066",
   "metadata": {},
   "outputs": [],
   "source": [
    "long_lat = accident[['Latitude', 'Longitude']].value_counts()"
   ]
  },
  {
   "cell_type": "code",
   "execution_count": 66,
   "id": "2f6e5cee-a958-425d-91b4-1c7d4ba5b751",
   "metadata": {},
   "outputs": [
    {
     "data": {
      "text/plain": [
       "Latitude   Longitude\n",
       "52.949719  -0.977611    45\n",
       "52.458798  -1.871043    35\n",
       "53.083165  -0.816789    33\n",
       "52.967634  -1.190861    31\n",
       "52.938860  -1.216694    29\n",
       "                        ..\n",
       "60.348429  -1.253807     1\n",
       "60.349960  -1.254497     1\n",
       "60.356602  -1.270295     1\n",
       "60.356671  -1.282981     1\n",
       "60.357188  -1.013089     1\n",
       "Name: count, Length: 570518, dtype: int64"
      ]
     },
     "execution_count": 66,
     "metadata": {},
     "output_type": "execute_result"
    }
   ],
   "source": [
    "long_lat"
   ]
  },
  {
   "cell_type": "code",
   "execution_count": null,
   "id": "20a66b4a-2325-45d9-b366-78226268be2e",
   "metadata": {},
   "outputs": [],
   "source": []
  }
 ],
 "metadata": {
  "kernelspec": {
   "display_name": "Python 3 (ipykernel)",
   "language": "python",
   "name": "python3"
  },
  "language_info": {
   "codemirror_mode": {
    "name": "ipython",
    "version": 3
   },
   "file_extension": ".py",
   "mimetype": "text/x-python",
   "name": "python",
   "nbconvert_exporter": "python",
   "pygments_lexer": "ipython3",
   "version": "3.12.9"
  }
 },
 "nbformat": 4,
 "nbformat_minor": 5
}
